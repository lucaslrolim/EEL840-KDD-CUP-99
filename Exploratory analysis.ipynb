{
 "cells": [
  {
   "cell_type": "code",
   "execution_count": 1,
   "metadata": {
    "collapsed": true
   },
   "outputs": [],
   "source": [
    "# Importing libraries\n",
    "%matplotlib inline\n",
    "import os\n",
    "import numpy                   as np\n",
    "import pandas                  as pd\n",
    "import matplotlib              as pl\n",
    "import seaborn                 as sns\n",
    "from  sklearn.model_selection  import train_test_split\n",
    "from  sklearn.tree             import DecisionTreeClassifier\n",
    "from  sklearn.neural_network    import MLPClassifier\n",
    "from  sklearn.metrics          import accuracy_score\n",
    "from  sklearn                  import tree"
   ]
  },
  {
   "cell_type": "markdown",
   "metadata": {},
   "source": [
    "# Análise Exploratória"
   ]
  },
  {
   "cell_type": "markdown",
   "metadata": {},
   "source": [
    "Visando entender melhor o problema, vamos explorar o conjunto de dados e criar algumas visualizações que permitam um melhor entendimento sobre suas principais características. Basicamente, nessa etapa temos o objetivo de checar se as características gerais dos dados estão de acordo com o que é descrito na literatura e também pretendemos gerar *insights* que ajudem a entender melhor os modelos de classificação que vamos criar na etapa seguinte.\n",
    "\n",
    "\n",
    "Primeiro, vamos começar lendo o conjunto de dados e definindo o nome correto para suas colunas. Além disso, vamos criar dois conjuntos de dados para auxiliar na criação das visualizações, um contendo apenas variáveis discretas/categóricas e outro com as variáveis contínuas."
   ]
  },
  {
   "cell_type": "code",
   "execution_count": 2,
   "metadata": {
    "collapsed": true
   },
   "outputs": [],
   "source": [
    "## Reading .csv files\n",
    "df = pd.read_csv(\"data/corrected.csv\",sep=',',header=None)\n",
    "\n",
    "## Defining columns\n",
    "col_names  = pd.read_csv(\"data/column_names.csv\",sep=',',header=None)[0].values\n",
    "df.columns = col_names\n",
    "\n",
    "\n",
    "## Identifying columns as categorical or not\n",
    "categorical_columns = [\"protocol_type\",\"service\",\"flag\",\"land\",\"logged_in\",\"root_shell\",\"su_attempted\",\n",
    "                       \"is_host_login\",\"is_guest_login\",\"label\"]\n",
    "\n",
    "df_categorical      = df[categorical_columns]\n",
    "df_non_categorical  = df.drop(categorical_columns, axis=1)"
   ]
  },
  {
   "cell_type": "markdown",
   "metadata": {},
   "source": [
    "Podemos perceber que ao analisar a média e o desvio padrão das variáveis não é possível extrair muita informação útil além do fato de notar uma alta variância em quase todas as features, o que mostra que os fluxos de rede coletados são bastante heterogêneos."
   ]
  },
  {
   "cell_type": "code",
   "execution_count": 3,
   "metadata": {
    "scrolled": true
   },
   "outputs": [
    {
     "data": {
      "text/html": [
       "<div>\n",
       "<style>\n",
       "    .dataframe thead tr:only-child th {\n",
       "        text-align: right;\n",
       "    }\n",
       "\n",
       "    .dataframe thead th {\n",
       "        text-align: left;\n",
       "    }\n",
       "\n",
       "    .dataframe tbody tr th {\n",
       "        vertical-align: top;\n",
       "    }\n",
       "</style>\n",
       "<table border=\"1\" class=\"dataframe\">\n",
       "  <thead>\n",
       "    <tr style=\"text-align: right;\">\n",
       "      <th></th>\n",
       "      <th>duration</th>\n",
       "      <th>src_bytes</th>\n",
       "      <th>dst_bytes</th>\n",
       "      <th>wrong_fragment</th>\n",
       "      <th>urgent</th>\n",
       "      <th>hot</th>\n",
       "      <th>num_failed_logins</th>\n",
       "      <th>num_compromised</th>\n",
       "      <th>num_root</th>\n",
       "      <th>num_file_creations</th>\n",
       "      <th>...</th>\n",
       "      <th>dst_host_count</th>\n",
       "      <th>dst_host_srv_count</th>\n",
       "      <th>dst_host_same_srv_rate</th>\n",
       "      <th>dst_host_diff_srv_rate</th>\n",
       "      <th>dst_host_same_src_port_rate</th>\n",
       "      <th>dst_host_srv_diff_host_rate</th>\n",
       "      <th>dst_host_serror_rate</th>\n",
       "      <th>dst_host_srv_serror_rate</th>\n",
       "      <th>dst_host_rerror_rate</th>\n",
       "      <th>dst_host_srv_rerror_rate</th>\n",
       "    </tr>\n",
       "  </thead>\n",
       "  <tbody>\n",
       "    <tr>\n",
       "      <th>count</th>\n",
       "      <td>311029.000000</td>\n",
       "      <td>3.110290e+05</td>\n",
       "      <td>3.110290e+05</td>\n",
       "      <td>311029.000000</td>\n",
       "      <td>311029.000000</td>\n",
       "      <td>311029.000000</td>\n",
       "      <td>311029.000000</td>\n",
       "      <td>311029.000000</td>\n",
       "      <td>311029.000000</td>\n",
       "      <td>311029.000000</td>\n",
       "      <td>...</td>\n",
       "      <td>311029.000000</td>\n",
       "      <td>311029.000000</td>\n",
       "      <td>311029.000000</td>\n",
       "      <td>311029.000000</td>\n",
       "      <td>311029.000000</td>\n",
       "      <td>311029.000000</td>\n",
       "      <td>311029.000000</td>\n",
       "      <td>311029.000000</td>\n",
       "      <td>311029.000000</td>\n",
       "      <td>311029.000000</td>\n",
       "    </tr>\n",
       "    <tr>\n",
       "      <th>mean</th>\n",
       "      <td>17.902736</td>\n",
       "      <td>1.731702e+03</td>\n",
       "      <td>7.479937e+02</td>\n",
       "      <td>0.000762</td>\n",
       "      <td>0.000051</td>\n",
       "      <td>0.014677</td>\n",
       "      <td>0.002363</td>\n",
       "      <td>0.011243</td>\n",
       "      <td>0.008359</td>\n",
       "      <td>0.000958</td>\n",
       "      <td>...</td>\n",
       "      <td>235.282681</td>\n",
       "      <td>199.193914</td>\n",
       "      <td>0.793494</td>\n",
       "      <td>0.024953</td>\n",
       "      <td>0.547919</td>\n",
       "      <td>0.004566</td>\n",
       "      <td>0.058764</td>\n",
       "      <td>0.058791</td>\n",
       "      <td>0.142659</td>\n",
       "      <td>0.141693</td>\n",
       "    </tr>\n",
       "    <tr>\n",
       "      <th>std</th>\n",
       "      <td>407.644400</td>\n",
       "      <td>1.276567e+05</td>\n",
       "      <td>1.612018e+04</td>\n",
       "      <td>0.040367</td>\n",
       "      <td>0.009821</td>\n",
       "      <td>0.312068</td>\n",
       "      <td>0.049990</td>\n",
       "      <td>1.958325</td>\n",
       "      <td>2.165196</td>\n",
       "      <td>0.193119</td>\n",
       "      <td>...</td>\n",
       "      <td>60.913298</td>\n",
       "      <td>100.306470</td>\n",
       "      <td>0.387090</td>\n",
       "      <td>0.096003</td>\n",
       "      <td>0.491963</td>\n",
       "      <td>0.035773</td>\n",
       "      <td>0.231296</td>\n",
       "      <td>0.232997</td>\n",
       "      <td>0.344380</td>\n",
       "      <td>0.346573</td>\n",
       "    </tr>\n",
       "    <tr>\n",
       "      <th>min</th>\n",
       "      <td>0.000000</td>\n",
       "      <td>0.000000e+00</td>\n",
       "      <td>0.000000e+00</td>\n",
       "      <td>0.000000</td>\n",
       "      <td>0.000000</td>\n",
       "      <td>0.000000</td>\n",
       "      <td>0.000000</td>\n",
       "      <td>0.000000</td>\n",
       "      <td>0.000000</td>\n",
       "      <td>0.000000</td>\n",
       "      <td>...</td>\n",
       "      <td>0.000000</td>\n",
       "      <td>0.000000</td>\n",
       "      <td>0.000000</td>\n",
       "      <td>0.000000</td>\n",
       "      <td>0.000000</td>\n",
       "      <td>0.000000</td>\n",
       "      <td>0.000000</td>\n",
       "      <td>0.000000</td>\n",
       "      <td>0.000000</td>\n",
       "      <td>0.000000</td>\n",
       "    </tr>\n",
       "    <tr>\n",
       "      <th>25%</th>\n",
       "      <td>0.000000</td>\n",
       "      <td>1.050000e+02</td>\n",
       "      <td>0.000000e+00</td>\n",
       "      <td>0.000000</td>\n",
       "      <td>0.000000</td>\n",
       "      <td>0.000000</td>\n",
       "      <td>0.000000</td>\n",
       "      <td>0.000000</td>\n",
       "      <td>0.000000</td>\n",
       "      <td>0.000000</td>\n",
       "      <td>...</td>\n",
       "      <td>255.000000</td>\n",
       "      <td>244.000000</td>\n",
       "      <td>0.970000</td>\n",
       "      <td>0.000000</td>\n",
       "      <td>0.000000</td>\n",
       "      <td>0.000000</td>\n",
       "      <td>0.000000</td>\n",
       "      <td>0.000000</td>\n",
       "      <td>0.000000</td>\n",
       "      <td>0.000000</td>\n",
       "    </tr>\n",
       "    <tr>\n",
       "      <th>50%</th>\n",
       "      <td>0.000000</td>\n",
       "      <td>5.200000e+02</td>\n",
       "      <td>0.000000e+00</td>\n",
       "      <td>0.000000</td>\n",
       "      <td>0.000000</td>\n",
       "      <td>0.000000</td>\n",
       "      <td>0.000000</td>\n",
       "      <td>0.000000</td>\n",
       "      <td>0.000000</td>\n",
       "      <td>0.000000</td>\n",
       "      <td>...</td>\n",
       "      <td>255.000000</td>\n",
       "      <td>255.000000</td>\n",
       "      <td>1.000000</td>\n",
       "      <td>0.000000</td>\n",
       "      <td>1.000000</td>\n",
       "      <td>0.000000</td>\n",
       "      <td>0.000000</td>\n",
       "      <td>0.000000</td>\n",
       "      <td>0.000000</td>\n",
       "      <td>0.000000</td>\n",
       "    </tr>\n",
       "    <tr>\n",
       "      <th>75%</th>\n",
       "      <td>0.000000</td>\n",
       "      <td>1.032000e+03</td>\n",
       "      <td>0.000000e+00</td>\n",
       "      <td>0.000000</td>\n",
       "      <td>0.000000</td>\n",
       "      <td>0.000000</td>\n",
       "      <td>0.000000</td>\n",
       "      <td>0.000000</td>\n",
       "      <td>0.000000</td>\n",
       "      <td>0.000000</td>\n",
       "      <td>...</td>\n",
       "      <td>255.000000</td>\n",
       "      <td>255.000000</td>\n",
       "      <td>1.000000</td>\n",
       "      <td>0.010000</td>\n",
       "      <td>1.000000</td>\n",
       "      <td>0.000000</td>\n",
       "      <td>0.000000</td>\n",
       "      <td>0.000000</td>\n",
       "      <td>0.000000</td>\n",
       "      <td>0.000000</td>\n",
       "    </tr>\n",
       "    <tr>\n",
       "      <th>max</th>\n",
       "      <td>57715.000000</td>\n",
       "      <td>6.282565e+07</td>\n",
       "      <td>5.203179e+06</td>\n",
       "      <td>3.000000</td>\n",
       "      <td>3.000000</td>\n",
       "      <td>101.000000</td>\n",
       "      <td>4.000000</td>\n",
       "      <td>796.000000</td>\n",
       "      <td>878.000000</td>\n",
       "      <td>100.000000</td>\n",
       "      <td>...</td>\n",
       "      <td>255.000000</td>\n",
       "      <td>255.000000</td>\n",
       "      <td>1.000000</td>\n",
       "      <td>1.000000</td>\n",
       "      <td>1.000000</td>\n",
       "      <td>1.000000</td>\n",
       "      <td>1.000000</td>\n",
       "      <td>1.000000</td>\n",
       "      <td>1.000000</td>\n",
       "      <td>1.000000</td>\n",
       "    </tr>\n",
       "  </tbody>\n",
       "</table>\n",
       "<p>8 rows × 32 columns</p>\n",
       "</div>"
      ],
      "text/plain": [
       "            duration     src_bytes     dst_bytes  wrong_fragment  \\\n",
       "count  311029.000000  3.110290e+05  3.110290e+05   311029.000000   \n",
       "mean       17.902736  1.731702e+03  7.479937e+02        0.000762   \n",
       "std       407.644400  1.276567e+05  1.612018e+04        0.040367   \n",
       "min         0.000000  0.000000e+00  0.000000e+00        0.000000   \n",
       "25%         0.000000  1.050000e+02  0.000000e+00        0.000000   \n",
       "50%         0.000000  5.200000e+02  0.000000e+00        0.000000   \n",
       "75%         0.000000  1.032000e+03  0.000000e+00        0.000000   \n",
       "max     57715.000000  6.282565e+07  5.203179e+06        3.000000   \n",
       "\n",
       "              urgent            hot  num_failed_logins  num_compromised  \\\n",
       "count  311029.000000  311029.000000      311029.000000    311029.000000   \n",
       "mean        0.000051       0.014677           0.002363         0.011243   \n",
       "std         0.009821       0.312068           0.049990         1.958325   \n",
       "min         0.000000       0.000000           0.000000         0.000000   \n",
       "25%         0.000000       0.000000           0.000000         0.000000   \n",
       "50%         0.000000       0.000000           0.000000         0.000000   \n",
       "75%         0.000000       0.000000           0.000000         0.000000   \n",
       "max         3.000000     101.000000           4.000000       796.000000   \n",
       "\n",
       "            num_root  num_file_creations            ...             \\\n",
       "count  311029.000000       311029.000000            ...              \n",
       "mean        0.008359            0.000958            ...              \n",
       "std         2.165196            0.193119            ...              \n",
       "min         0.000000            0.000000            ...              \n",
       "25%         0.000000            0.000000            ...              \n",
       "50%         0.000000            0.000000            ...              \n",
       "75%         0.000000            0.000000            ...              \n",
       "max       878.000000          100.000000            ...              \n",
       "\n",
       "       dst_host_count  dst_host_srv_count  dst_host_same_srv_rate  \\\n",
       "count   311029.000000       311029.000000           311029.000000   \n",
       "mean       235.282681          199.193914                0.793494   \n",
       "std         60.913298          100.306470                0.387090   \n",
       "min          0.000000            0.000000                0.000000   \n",
       "25%        255.000000          244.000000                0.970000   \n",
       "50%        255.000000          255.000000                1.000000   \n",
       "75%        255.000000          255.000000                1.000000   \n",
       "max        255.000000          255.000000                1.000000   \n",
       "\n",
       "       dst_host_diff_srv_rate  dst_host_same_src_port_rate  \\\n",
       "count           311029.000000                311029.000000   \n",
       "mean                 0.024953                     0.547919   \n",
       "std                  0.096003                     0.491963   \n",
       "min                  0.000000                     0.000000   \n",
       "25%                  0.000000                     0.000000   \n",
       "50%                  0.000000                     1.000000   \n",
       "75%                  0.010000                     1.000000   \n",
       "max                  1.000000                     1.000000   \n",
       "\n",
       "       dst_host_srv_diff_host_rate  dst_host_serror_rate  \\\n",
       "count                311029.000000         311029.000000   \n",
       "mean                      0.004566              0.058764   \n",
       "std                       0.035773              0.231296   \n",
       "min                       0.000000              0.000000   \n",
       "25%                       0.000000              0.000000   \n",
       "50%                       0.000000              0.000000   \n",
       "75%                       0.000000              0.000000   \n",
       "max                       1.000000              1.000000   \n",
       "\n",
       "       dst_host_srv_serror_rate  dst_host_rerror_rate  \\\n",
       "count             311029.000000         311029.000000   \n",
       "mean                   0.058791              0.142659   \n",
       "std                    0.232997              0.344380   \n",
       "min                    0.000000              0.000000   \n",
       "25%                    0.000000              0.000000   \n",
       "50%                    0.000000              0.000000   \n",
       "75%                    0.000000              0.000000   \n",
       "max                    1.000000              1.000000   \n",
       "\n",
       "       dst_host_srv_rerror_rate  \n",
       "count             311029.000000  \n",
       "mean                   0.141693  \n",
       "std                    0.346573  \n",
       "min                    0.000000  \n",
       "25%                    0.000000  \n",
       "50%                    0.000000  \n",
       "75%                    0.000000  \n",
       "max                    1.000000  \n",
       "\n",
       "[8 rows x 32 columns]"
      ]
     },
     "execution_count": 3,
     "metadata": {},
     "output_type": "execute_result"
    }
   ],
   "source": [
    "## A glance at the non categorical data\n",
    "df_non_categorical.describe()"
   ]
  },
  {
   "cell_type": "markdown",
   "metadata": {},
   "source": [
    "## Análise de variáveis discretas\n",
    "\n",
    "\n",
    "### Relação entre Ataques e Serviços de Rede\n",
    "\n",
    "Vamos começar analisando a relação entre o serviço de rede utilizado pelo destino dos pacotes e os ataques identificados. Para tal, vamos plotar um gráfico de barras que mostra o percentual de participação de cada serviço de rede em cada ataque.\n",
    "\n",
    "**De modo a facilitar a visualização, vamos considerar apenas ataques que representem ao menos 1% do percentual total de ataques ou tipos de serviço de rede.**\n",
    "\n"
   ]
  },
  {
   "cell_type": "code",
   "execution_count": 4,
   "metadata": {
    "scrolled": false
   },
   "outputs": [
    {
     "data": {
      "image/png": "[encoded data removed]",
      "text/plain": [
       "<matplotlib.figure.Figure at 0x7ff44a65dbe0>"
      ]
     },
     "metadata": {},
     "output_type": "display_data"
    }
   ],
   "source": [
    "## Create a subset of main dataset (f_data) that contains only services and labels that represents at\n",
    "## least 1% of the total cases\n",
    "\n",
    "f_services = pd.crosstab(index=df[\"service\"],columns=\"count\")\n",
    "f_services = f_services/len(df)\n",
    "f_services = f_services[f_services[\"count\"] > 0.01]\n",
    "\n",
    "f_attacks = pd.crosstab(index=df[\"label\"],columns=\"count\")\n",
    "f_attacks = f_attacks/len(df)\n",
    "f_attacks = f_attacks[f_attacks[\"count\"] > 0.01]\n",
    "\n",
    "f_data = df[df['service'].isin(list(f_services.index))]\n",
    "f_data = f_data[f_data['label'].isin(list(f_attacks.index))]\n",
    "\n",
    "## Create the plot\n",
    "\n",
    "attack_data = pd.crosstab(index = f_data[\"label\"], columns=f_data[\"service\"])\n",
    "frequency_table_attack = (attack_data/attack_data.sum())\n",
    "\n",
    "frequency_table_attack.plot(kind=\"bar\", \n",
    "                 figsize=(8,8),\n",
    "                 stacked=True);"
   ]
  },
  {
   "cell_type": "markdown",
   "metadata": {},
   "source": [
    "Através do gráfico acima já é possível conhecer algumas características importantes dos dados, tais quais os principais tipos de ataque presente e de protocolo de serviço utilizados.\n",
    "\n",
    "Vemos que claramente a maior parte do fluxo de rede presente no conjunto de dados é caracterizada como ¨normal¨, ou seja, um fluxo de rede sem nenhum tipo de atividade maliciosa detectada. Além disso, **os principais ataques que estão presentes nos dados são SYN Flooad (Neptune),guess_passord, mailbomb e Smurf.**"
   ]
  },
  {
   "cell_type": "markdown",
   "metadata": {},
   "source": [
    "### Relação entre Ataques e Tipos de Protocolo\n",
    "\n",
    "Utilizando a mesma abordagem anterior, iremos avaliar o percentual de participcação de cada protocolo de rede em cada tipo de ataque.\n",
    "\n",
    "O objetivo desse análise é visualziar se existe alguma característica que foge do conhecido pela literatura."
   ]
  },
  {
   "cell_type": "code",
   "execution_count": 5,
   "metadata": {
    "scrolled": false
   },
   "outputs": [
    {
     "data": {
      "image/png": "[encoded data removed]",
      "text/plain": [
       "<matplotlib.figure.Figure at 0x7ff44a641940>"
      ]
     },
     "metadata": {},
     "output_type": "display_data"
    }
   ],
   "source": [
    "## Create a subset of main dataset (f_data) that contains only protocols and labels that represents at\n",
    "## least 1% of the total cases\n",
    "\n",
    "f_protocol = pd.crosstab(index=df[\"protocol_type\"],columns=\"count\")\n",
    "f_protocol = f_protocol/len(df)\n",
    "f_protocol = f_protocol[f_protocol[\"count\"] > 0.01]\n",
    "\n",
    "f_data = df[df['protocol_type'].isin(list(f_protocol.index))]\n",
    "f_data = f_data[f_data['label'].isin(list(f_attacks.index))]\n",
    "\n",
    "## Create a Two-Way Table\n",
    "\n",
    "relationship_protocoal_attack = pd.crosstab(index=f_data[\"label\"], \n",
    "                          columns=f_data[\"protocol_type\"])\n",
    "## Plot the Two-Way Table\n",
    "relationship_protocoal_attack.plot(kind=\"bar\", \n",
    "                 figsize=(8,8),\n",
    "                 stacked=True);"
   ]
  },
  {
   "cell_type": "markdown",
   "metadata": {},
   "source": [
    "Como já era esperado pelo conhecimento da literatura, ataques do tipo SYN Flooad (Neptune) ocorreram em redes com protocolo TCP e ataques Smurf em redes ICMP.Também podemos notar que os ataques do tipo SNMP foram feitos exclusivamente em redes que utizam UDP."
   ]
  },
  {
   "cell_type": "markdown",
   "metadata": {},
   "source": [
    "### Participação percentual de cada tipo de protocolo de rede\n",
    "\n",
    "O gráfico abaixo visa dar uma visão geral da participação de cada tipo de protocolo na rede na qual os dados foram coletados."
   ]
  },
  {
   "cell_type": "code",
   "execution_count": 6,
   "metadata": {},
   "outputs": [
    {
     "data": {
      "image/png": "[encoded data removed]",
      "text/plain": [
       "<matplotlib.figure.Figure at 0x7ff44a22aba8>"
      ]
     },
     "metadata": {},
     "output_type": "display_data"
    }
   ],
   "source": [
    "## Create a cross tab dataframe\n",
    "protocol_data = pd.crosstab(index = df[\"protocol_type\"],columns=\"Protocol type\")\n",
    "frequency_table_protocol = (protocol_data/protocol_data.sum())\n",
    "\n",
    "## Plot the dataframe\n",
    "frequency_table_protocol.plot.bar();"
   ]
  },
  {
   "cell_type": "markdown",
   "metadata": {},
   "source": [
    "## Análise de variáveis contínuas"
   ]
  },
  {
   "cell_type": "markdown",
   "metadata": {},
   "source": [
    "### Análise dos usuários logados no sistema\n",
    "\n",
    "Julgamos interessante avaliar o padrão de comportamento dos usuários que de alguma forma estão logados na rede. Dessa forma, iremos criar gráficos que analisam se alguma ameaça foi detectada para os seguintes tipos de usuários:\n",
    "\n",
    "- usuários logados como convidados;\n",
    "- usuários na lista de ¨hot¨."
   ]
  },
  {
   "cell_type": "code",
   "execution_count": 8,
   "metadata": {
    "scrolled": false
   },
   "outputs": [
    {
     "data": {
      "text/plain": [
       "<matplotlib.axes._subplots.AxesSubplot at 0x7ff439f29048>"
      ]
     },
     "execution_count": 8,
     "metadata": {},
     "output_type": "execute_result"
    },
    {
     "data": {
      "image/png": "[encoded data removed]",
      "text/plain": [
       "<matplotlib.figure.Figure at 0x7ff439bdf208>"
      ]
     },
     "metadata": {},
     "output_type": "display_data"
    }
   ],
   "source": [
    "df_temp = df[[\"is_guest_login\",\"label\"]]\n",
    "df_temp = df_temp.loc[df_temp['is_guest_login'] == 1]\n",
    "df_temp.groupby([\"label\"]).count().plot(kind='bar', title =\"Análise de ataques feitos por usuários convidados do sistema\", figsize=(10, 5), legend=True, fontsize=12)"
   ]
  },
  {
   "cell_type": "markdown",
   "metadata": {},
   "source": [
    "**Podemos notar que todos os ataques identificados nessa categoria de usuários são do tipo R2L** *(remote to local)*.\n",
    "\n",
    "Ataques desse tipo ocorrem quando um atacante tem a habilidadede enviar pacotes para uma máquina através da rede, mas não tem uma conta nessa máquina e explora alguma vulnerabilidade para ganhar acesso local como usuário da máquina. Ou seja, provavelmente esses ¨usuários convidados¨ identificados provavelmente tiveram seu login hackeado pelo atacante."
   ]
  },
  {
   "cell_type": "code",
   "execution_count": 10,
   "metadata": {},
   "outputs": [
    {
     "data": {
      "text/plain": [
       "<matplotlib.axes._subplots.AxesSubplot at 0x7ff439a71748>"
      ]
     },
     "execution_count": 10,
     "metadata": {},
     "output_type": "execute_result"
    },
    {
     "data": {
      "image/png": "[encoded data removed]",
      "text/plain": [
       "<matplotlib.figure.Figure at 0x7ff439aa9240>"
      ]
     },
     "metadata": {},
     "output_type": "display_data"
    }
   ],
   "source": [
    "df_temp = df[[\"is_host_login\",\"label\"]]\n",
    "df_temp = df_temp.loc[df_temp[\"is_host_login\"] == 1]\n",
    "df_temp.groupby([\"label\"]).count().plot(kind='bar', title =\"Análise de ataques feitos por usuários hot (perigosos)\", figsize=(10, 5), legend=True, fontsize=12)"
   ]
  },
  {
   "cell_type": "markdown",
   "metadata": {},
   "source": [
    "Nesse caso temos também ataques do tipo **U2R** *(User to Root attack)*. Nesse caso o atacante acessa o sistema como usuário normal *(ganho por : sniffing password, um dicionário local ou engenharia social)* e passa a explorar vulnerabilidades para ganhar acesso como root ao sistema."
   ]
  },
  {
   "cell_type": "markdown",
   "metadata": {},
   "source": [
    "\n",
    "## Análise de dados redundantes\n",
    "\n",
    "De acordo com Tavallaee (2009), o grande número de registros redundantes pode enviesar os classificadores para os registros mais frequentes. Desssa forma, o autor propõe um novo dataset, removendo as duplicatas. Dessa forma, analisaremos o dataset KDD99 completo e o sem as duplicatas. Para tal analisaremos a razão entre os dados únicos e os duplicados e plotaremos os gráficos de relação entre os ataques e serviços, e entre os ataques e protocolos utilizados."
   ]
  },
  {
   "cell_type": "code",
   "execution_count": 8,
   "metadata": {},
   "outputs": [
    {
     "name": "stdout",
     "output_type": "stream",
     "text": [
      "\n",
      " O dataset sem duplicatas é 75.15% menor que o dataset original,\n"
     ]
    }
   ],
   "source": [
    "# Removing dupicates\n",
    "df_no_duplicates = df.drop_duplicates()\n",
    "percentage = 1 - float(df_no_duplicates[\"protocol_type\"].count())/float(df[\"protocol_type\"].count())\n",
    "print(\"\\n O dataset sem duplicatas é {}% menor que o dataset original,\".format(round(percentage * 100,2)))"
   ]
  },
  {
   "cell_type": "markdown",
   "metadata": {},
   "source": [
    "# Modelos de classificação"
   ]
  },
  {
   "cell_type": "markdown",
   "metadata": {},
   "source": [
    "Antes de executar nossos modelos, vamos realizar algumas modificações em nosso conjunto de dados. São elas:\n",
    "\n",
    "- Transformar categorias que são strings em categorias numéricas \n",
    "- Atribuir uma categoria binária de ataque ou não ataque para cada um dos resgitros\n",
    "- Criar um conjunto de dados para treino e outro para teste e validação dos modelos, usando a proporção (0.8/02)"
   ]
  },
  {
   "cell_type": "code",
   "execution_count": 9,
   "metadata": {},
   "outputs": [],
   "source": [
    "# Mapping strings categories to int\n",
    "\n",
    "df_binary = df.copy()\n",
    "df_binary.loc[df_binary.label != 'normal.','label']= 1\n",
    "df_binary.loc[df_binary.label == 'normal.','label']= 0\n",
    "\n",
    "df_binary_duplicates = df_no_duplicates.copy()\n",
    "df_binary_duplicates.loc[df_binary_duplicates.label != 'normal.','label']= 1\n",
    "df_binary_duplicates.loc[df_binary_duplicates.label == 'normal.','label']= 0\n",
    "\n",
    "\n",
    "c1 = df_binary.protocol_type.unique()\n",
    "c2 = df_binary.service.unique()\n",
    "c3 = df_binary.flag.unique()\n",
    "\n",
    "d_protocol = {}\n",
    "d_service = {}\n",
    "d_wtver = {}\n",
    "\n",
    "for i in range(len(c1)):\n",
    "    d_protocol[c1[i]] = i\n",
    "\n",
    "for i in range(len(c2)):\n",
    "    d_service[c2[i]] = i\n",
    "    \n",
    "for i in range(len(c3)):\n",
    "    d_wtver[c3[i]] = i\n",
    "\n",
    "    \n",
    "for i in d_protocol:\n",
    "    df_binary        = df_binary.replace(i, d_protocol[i])\n",
    "    df_binary_duplicates = df_binary_duplicates.replace(i, d_protocol[i])\n",
    "    df_no_duplicates = df_no_duplicates.replace(i, d_protocol[i])\n",
    "    df               = df.replace(i, d_protocol[i])\n",
    "for i in d_service:\n",
    "    df_binary        = df_binary.replace(i, d_service[i])\n",
    "    df_binary_duplicates = df_binary_duplicates.replace(i, d_service[i])\n",
    "    df_no_duplicates = df_no_duplicates.replace(i, d_service[i])\n",
    "    df               = df.replace(i, d_service[i])\n",
    "for i in d_wtver:\n",
    "    df_binary        = df_binary.replace(i, d_wtver[i])\n",
    "    df_binary_duplicates = df_binary_duplicates.replace(i, d_wtver[i])\n",
    "    df_no_duplicates = df_no_duplicates.replace(i, d_wtver[i])\n",
    "    df               = df.replace(i, d_wtver[i])\n",
    "\n",
    "import random\n",
    "random.seed(1610)\n",
    "\n",
    "## Split the data in train and test datasets (with duplicates)\n",
    "\n",
    "df_b = df_binary.copy()\n",
    "y_b = pd.factorize(df_b['label'])[0]\n",
    "df_b = df_b.drop('label', 1)\n",
    "X_train_b, X_test_b, y_train_b, y_test_b = train_test_split(df_b, y_b, test_size=0.2, random_state=42)\n",
    "\n",
    "\n",
    "## Split the data in train and test datasets (without duplicates)\n",
    "df_b_nd = df_binary_duplicates.copy()\n",
    "y_b_nd = pd.factorize(df_b_nd['label'])[0]\n",
    "df_b_nd = df_b_nd.drop('label', 1)\n",
    "X_train_bnd, X_test_bnd, y_train_bnd, y_test_bnd = train_test_split(df_b_nd, y_b_nd, test_size=0.2, random_state=42)\n",
    "\n",
    "\n",
    "# Dataset (non binary) with duplicates\n",
    "\n",
    "df_temp = df.copy()\n",
    "y = df_temp['label']\n",
    "df_temp = df_temp.drop('label', 1)\n",
    "X_train, X_test, y_train, y_test = train_test_split(df_temp, y, test_size=0.2, random_state=42)\n",
    "\n",
    "# Dataset (non binary) without duplicates\n",
    "\n",
    "df_nd  = df_no_duplicates.copy()\n",
    "y_nd = df_nd['label']\n",
    "df_nd = df_nd.drop('label', 1)\n",
    "X_train_nd, X_test_nd, y_train_nd, y_test_nd = train_test_split(df_nd , y_nd, test_size=0.2, random_state=42)\n",
    "\n",
    "models = [{\"name\":\"Binario com duplicatas\",\"X\":X_train_b,\"Y\":y_train_b,\"X_test\":X_test_b,\"Y_test\":y_test_b},\n",
    "         {\"name\":\"Binario sem duplicatas\",\"X\":X_train_bnd,\"Y\":y_train_bnd,\"X_test\":X_test_bnd,\"Y_test\":y_test_bnd},\n",
    "         {\"name\":\"Nao binario com duplicatas\",\"X\":X_train,\"Y\":y_train,\"X_test\":X_test,\"Y_test\":y_test},\n",
    "         {\"name\":\"Nao binario sem duplicatas\",\"X\":X_train_nd,\"Y\":y_train_nd,\"X_test\":X_test_nd,\"Y_test\":y_test_nd}]"
   ]
  },
  {
   "cell_type": "markdown",
   "metadata": {
    "collapsed": true
   },
   "source": [
    "## Naives Bayes"
   ]
  },
  {
   "cell_type": "markdown",
   "metadata": {},
   "source": [
    "O primeiro modelo que iremos testar para a classificação é o Naives Bayes. Esse modelo é baseado no Teorema de Bayes e faz a suposição que todas as variáveis são independentes entre si, o que nós não acreditamos que seja uma verdade. Visto isso, é esperado que esse seja o modelo que alcance o pior desempenho destre todos que iremos testar."
   ]
  },
  {
   "cell_type": "code",
   "execution_count": 40,
   "metadata": {},
   "outputs": [
    {
     "name": "stdout",
     "output_type": "stream",
     "text": [
      "A acurácia do modelo Binario com duplicatas foi de: 0.925602031958332\n",
      "A acurácia do modelo Binario sem duplicatas foi de: 0.9102788019923669\n",
      "A acurácia do modelo Nao binario com duplicatas foi de: 0.922049320001286\n",
      "A acurácia do modelo Nao binario sem duplicatas foi de: 0.7737240442460702\n"
     ]
    }
   ],
   "source": [
    "from sklearn.naive_bayes import GaussianNB\n",
    "for model in models:\n",
    "    gnb = GaussianNB()\n",
    "    gnb.fit(model[\"X\"],model[\"Y\"])\n",
    "    print(\"A acurácia do modelo {} foi de: {}\".format(model[\"name\"],gnb.score(model[\"X_test\"],model[\"Y_test\"])))"
   ]
  },
  {
   "cell_type": "markdown",
   "metadata": {},
   "source": [
    "## Multilayer Perceptron"
   ]
  },
  {
   "cell_type": "code",
   "execution_count": 46,
   "metadata": {},
   "outputs": [
    {
     "name": "stdout",
     "output_type": "stream",
     "text": [
      "A acurácia do modelo Binario com duplicatas foi de: 0.9322894897598303\n",
      "A acurácia do modelo Binario sem duplicatas foi de: 0.9169415874248011\n",
      "A acurácia do modelo Nao binario com duplicatas foi de: 0.7194482847313763\n",
      "A acurácia do modelo Nao binario sem duplicatas foi de: 0.9291674752571317\n"
     ]
    }
   ],
   "source": [
    "for model in models:\n",
    "    clf_mlp = MLPClassifier(solver='adam', alpha=1e-5,\n",
    "                    hidden_layer_sizes=(5, 2), random_state=1)\n",
    "    clf_mlp.fit(model[\"X\"],model[\"Y\"])\n",
    "    print(\"A acurácia do modelo {} foi de: {}\".format(model[\"name\"],clf_mlp.score(model[\"X_test\"],model[\"Y_test\"])))"
   ]
  },
  {
   "cell_type": "markdown",
   "metadata": {},
   "source": [
    "## Modelos baseados em Gini vs Modelos baseados em Entropia\n",
    "\n",
    "Os algoritmos para construir árvores de regressão geralmente utilizam uma abordagem do tipo *top-down*, escolhendo a cada passo uma variável para separar os dados em novos subconjuntos e por fim em classes. Diferentes algoritmos utilizam diferentes métricas para definir qual é a melhor variável para dividir os dados em um novo subcojunto e são exatamente essas métricas que desejamos explorar nessa secção. \n",
    "\n",
    "Iremos testar dois tipos de modelo de árvore de regressão, baseadas na métrica de Gini e na métrica de Entropia. Dessa forma, vamos explicar brevemente como é calculada cada uma dessas medidas e quais são suas principais diferencças.\n",
    "\n",
    "#### Gini Impurity\n",
    "\n",
    "$$\\textit{Gini}: \\mathit{Gini}(E) = 1 - \\sum_{j=1}^{c}p_j^2$$\n",
    "\n",
    "Esse é um índice muito utilizado na área de economia, principalmente para avaliar a desigualdade social de um país. Ele basicamente avalia a quantidade de valores que foi classificado de maneira correta em cada classe em cada umas das possibilidades de divisão dispoíveis. Feito isso ele calcula o índice para cada uma das novas subdivisões e pondera pelo número de elementos que foi atribuído a cada uma delas.\n",
    "\n",
    "![](imagens/m-gini.png?raw=true)\n",
    "\n",
    "#### Função de ganho de informação\n",
    "\n",
    "\n",
    "Essa medida se baseia no conceito de **entropia** de Teoria a Informação. A implementação de árvore utilizando essa métrica é tão conhecida que recebeu um nome próprio, C.45. Para cada nó da árvore o valor de informação representa ¨a quantidade esperada de informação que seria necessária para classificar qualquer novo dado como *sim* ou *não*, dado que esse dado chegou até o nó atual na árvore¨. Basicamente, queremos dividir nossa árvore até que essa quantidade de informação seja zero.\n",
    "\n",
    "Nossa função de entropia é:\n",
    "\n",
    "$$\\textit{Entropy}: H(E) = -\\sum_{j=1}^{c}p_j\\log p_j$$\n",
    "\n",
    "E a função de ganho de informação é dada por:\n",
    "\n",
    "$$IG(E,a) = H(E) - H(E|a)$$\n",
    "\n",
    "Dados esses esclarecimentos, vamos testar os dois modelos que se utilizam desse conceito: Florestas Aleatórias e Árvores de Decisão."
   ]
  },
  {
   "cell_type": "markdown",
   "metadata": {},
   "source": [
    "## Random Forest"
   ]
  },
  {
   "cell_type": "markdown",
   "metadata": {},
   "source": [
    "O modelo de Florestas aleatórias nada mais é do que um conjunto de Árvores de Regressão criadas com a escolha dos parâmetros de divisão feita de maneira aleatória e que em conjunto votam para a criação de uma ¨arvore final¨ de decisão.\n",
    "\n",
    "Este é um dos modelos mais usados na área de Machine Learning na atualidade e em grande parte dos casos o que obtém o melhor custo benefício entre resultado/tempo e poder computacional despendido.\n",
    "\n",
    "\n",
    "![](imagens/random-forest.png?raw=true)"
   ]
  },
  {
   "cell_type": "code",
   "execution_count": 18,
   "metadata": {
    "collapsed": true
   },
   "outputs": [],
   "source": [
    "from sklearn.ensemble import RandomForestClassifier\n",
    "rd_array = []\n",
    "for i in range(len(models)):\n",
    "    randomForest = RandomForestClassifier(criterion  = \"entropy\")\n",
    "    rd_array.append(randomForest.fit(models[i][\"X\"],models[i][\"Y\"]))"
   ]
  },
  {
   "cell_type": "code",
   "execution_count": 20,
   "metadata": {},
   "outputs": [
    {
     "name": "stdout",
     "output_type": "stream",
     "text": [
      "As 5 features mais relevantes para o modelo Binario com duplicatas foram: \n",
      "\n",
      "dst_bytes, com influência: 0.210019702715\n",
      "service, com influência: 0.179275968538\n",
      "dst_host_same_src_port_rate, com influência: 0.0815457861104\n",
      "src_bytes, com influência: 0.0812298917064\n",
      "protocol_type, com influência: 0.0728611217154\n",
      "\n",
      "A acurácia do modelo foi de: 0.9813522811304376 \n",
      "\n",
      "O recall e: 0.98868570973268\n",
      "A precisao e: 0.9882132759925139\n",
      "\n",
      " ------------------------------------\n",
      "\n",
      "As 5 features mais relevantes para o modelo Binario sem duplicatas foram: \n",
      "\n",
      "src_bytes, com influência: 0.215177061193\n",
      "logged_in, com influência: 0.114604231687\n",
      "service, com influência: 0.104106376556\n",
      "dst_host_diff_srv_rate, com influência: 0.0765939879337\n",
      "dst_host_rerror_rate, com influência: 0.0672906288924\n",
      "\n",
      "A acurácia do modelo foi de: 0.995407206158225 \n",
      "\n",
      "O recall e: 0.9936539746158984\n",
      "A precisao e: 0.9944843723884339\n",
      "\n",
      " ------------------------------------\n",
      "\n",
      "As 5 features mais relevantes para o modelo Nao binario com duplicatas foram: \n",
      "\n",
      "service, com influência: 0.192514807143\n",
      "src_bytes, com influência: 0.130564237654\n",
      "srv_count, com influência: 0.106912046575\n",
      "protocol_type, com influência: 0.0856336856674\n",
      "flag, com influência: 0.0855439562056\n",
      "\n",
      "A acurácia do modelo foi de: 0.9810146931164196 \n",
      "\n",
      "As 5 features mais relevantes para o modelo Nao binario sem duplicatas foram: \n",
      "\n",
      "src_bytes, com influência: 0.130917171229\n",
      "flag, com influência: 0.114877752697\n",
      "service, com influência: 0.0893302062411\n",
      "count, com influência: 0.0714835527916\n",
      "dst_host_srv_count, com influência: 0.0694029857971\n",
      "\n",
      "A acurácia do modelo foi de: 0.9943075231256873 \n",
      "\n"
     ]
    }
   ],
   "source": [
    "# import matplotlib.pyplot as plt\n",
    "from sklearn.metrics import confusion_matrix\n",
    "for j in range(len(models)):\n",
    "    featuresImportance = {}\n",
    "    for i in range(len(df.columns[:len(df.columns)-1])):\n",
    "        featuresImportance[df.columns[:len(df.columns)-1][i]] = rd_array[j].feature_importances_[i]\n",
    "\n",
    "    s = [(k, featuresImportance[k]) for k in sorted(featuresImportance, key=featuresImportance.get, reverse=True)]\n",
    "\n",
    "    print(\"As 5 features mais relevantes para o modelo %s foram: \\n\"% (models[j][\"name\"])) \n",
    "    for i in range (5):\n",
    "        print(\"%s, com influência: %s\" % (s[i][0],s[i][1]))\n",
    "\n",
    "    print(\"\\nA acurácia do modelo foi de: {} \\n\".format(rd_array[j].score(models[j][\"X_test\"], models[j][\"Y_test\"])))\n",
    "    if(j <= 1):\n",
    "        tn, fp, fn, tp = confusion_matrix(models[j][\"Y_test\"], rd_array[j].predict(models[j][\"X_test\"])).ravel()\n",
    "        print(\"O recall e: {}\".format(tp/(tp+fn)))\n",
    "        print(\"A precisao e: {}\".format(tp/(tp+fp)))\n",
    "        print(\"\\n ------------------------------------\\n\")\n",
    "    "
   ]
  },
  {
   "cell_type": "markdown",
   "metadata": {},
   "source": [
    "Nesse caso, os resultados utilizando as métricas de Gini e Entropia foram praticamente idênticos, dessa forma decidimos omitir os resutados obtidos por Gini de modo a não poluir esse relatório *(para visualizá-los para ir no bloco 18 e mudar de ¨entropy¨ para ¨gini¨)*.\n",
    "\n",
    "Em primeiro lugar, podemos perceber que a acurácia foi bastante elevada em todos os casos e acabou subindo no modelo sem duplicatas, provavelmente pela redução de *overfitting* em algum nível. Como a acurácia resultou em um valor extremamente preciso, recorremos ao Recall e a Precisão para verificar se nossos resultados eram válidos. Ambos os indicadores sinalizaram de maneira positiva.\n",
    "\n",
    "Podemos notar também que, apesar de variações na ordem, algumas variáveis se mostraram importantes para a divisão em todos os casos, sendo as com mais destaque ¨service¨, ¨flag¨ e ¨src_bytes¨. Isso vai ao encontro com o que havíamos encontrado na análise exploratória, que mostrava que os ataques mais comuns nessa rede eram SYN Flood e Smurf."
   ]
  },
  {
   "cell_type": "markdown",
   "metadata": {},
   "source": [
    "## Árvores de Decisão"
   ]
  },
  {
   "cell_type": "code",
   "execution_count": 13,
   "metadata": {},
   "outputs": [
    {
     "name": "stdout",
     "output_type": "stream",
     "text": [
      "A acurácia do modelo Binario com duplicatas foi de: 0.9589428672475324\n",
      "A acurácia do modelo Binario sem duplicatas foi de: 0.9877094249304612\n",
      "A acurácia do modelo Nao binario com duplicatas foi de: 0.9470629842780439\n",
      "A acurácia do modelo Nao binario sem duplicatas foi de: 0.9605407853030598\n"
     ]
    }
   ],
   "source": [
    "for model in models:\n",
    "    clf_gini = DecisionTreeClassifier(criterion = \"gini\", random_state = 100, max_depth=5, min_samples_leaf=5)\n",
    "    clf_gini.fit(model[\"X\"],model[\"Y\"])\n",
    "    print(\"A acurácia do modelo {} foi de: {}\".format(model[\"name\"],clf_gini.score(model[\"X_test\"],model[\"Y_test\"])))"
   ]
  },
  {
   "cell_type": "code",
   "execution_count": 14,
   "metadata": {},
   "outputs": [
    {
     "name": "stdout",
     "output_type": "stream",
     "text": [
      "A acurácia do modelo Binario com duplicatas foi de: 0.959232228402405\n",
      "A acurácia do modelo Binario sem duplicatas foi de: 0.9869978653211722\n",
      "A acurácia do modelo Nao binario com duplicatas foi de: 0.956949490402855\n",
      "A acurácia do modelo Nao binario sem duplicatas foi de: 0.966621385600621\n"
     ]
    }
   ],
   "source": [
    "for model in models:\n",
    "    clf_entropy = DecisionTreeClassifier(criterion = \"entropy\", random_state = 100,max_depth=5, min_samples_leaf=5)\n",
    "    clf_entropy.fit(model[\"X\"],model[\"Y\"])\n",
    "    print(\"A acurácia do modelo {} foi de: {}\".format(model[\"name\"],clf_entropy.score(model[\"X_test\"],model[\"Y_test\"])))"
   ]
  },
  {
   "cell_type": "code",
   "execution_count": 15,
   "metadata": {
    "collapsed": true
   },
   "outputs": [],
   "source": [
    "#Export as .dot\n",
    "names = col_names[:len(col_names)-1]\n",
    "tree.export_graphviz(clf_gini, out_file='tree_gini.dot',feature_names = names,class_names = df.label.unique(),filled = True)\n",
    "success = os.system(\"dot -Tpng tree_gini.dot -o tree_gini.png\")\n",
    "tree.export_graphviz(clf_entropy, out_file='tree_entropy.dot',feature_names = names,class_names = df.label.unique(),filled = True)\n",
    "success = os.system(\"dot -Tpng tree_entropy.dot -o tree_entropy.png\")"
   ]
  },
  {
   "cell_type": "markdown",
   "metadata": {},
   "source": [
    "### Árvore de decisão usando o critério \"gini\"\n",
    "![DecisionTree Gini](tree_gini.png \"DecisionTree Gini\")\n",
    "### Árvore de decisão usando o critério \"entropy\" \n",
    "![DecisionTree Entropy](tree_entropy.png \"DecisionTree Entropy\")"
   ]
  },
  {
   "cell_type": "markdown",
   "metadata": {},
   "source": [
    "### Análise das Árvores de Decisão do dataset com duplicatas e não binarizado\n",
    "\n",
    "Vamos adotar analisar cada uma das árvores separadamente e depois atribuir um parecer sobre suas diferenças e semelhanças. Começaremos pela árvore que utiliza pela métrica de Gini, para logo após analisar a árvore de regressão que utiliza como métrica a função de ganho.\n",
    "\n",
    "#### Análise da árvore de decisão usando Gini\n",
    "\n",
    "O primeiro ponto importante a se notar é a raíz dessa árvore. Nesse caso, temos que a variável utilizada para maximizar a subdivisão em dois novos grupos é a variável **flag**, que indica o status de erro identificado na conexão. Essa variável foi transformada de string para numérica para aplicarmos os modelos, a relação atribuída foi:\n",
    "\n",
    "{'OTH': 10,'REJ': 3,'RSTO': 5,'RSTOS0': 8,'RSTR': 1,'S0': 6,'S1': 2,'S2': 7,'S3': 4,'SF': 0,'SH': 9}\n",
    "\n",
    "Ainda, o significado de cada um desses status é:\n",
    "\n",
    "![](imagens/flags.png?raw=true)\n",
    "\n",
    "Ou seja, ao separar os novos grupos de acordo com uma divisão por valores de flasg menores iguais a 2.5 o que o algoritmo está fazendo é tentando separar as conexões que foram estabelecidas e terminadas normalmente das demais. A classe que foi atribuída foi a **udpstorm**, uma classe que possui somente duas aparciçoẽs no dataset, portanto não conseguimos compreender o motivo dela ter sido a escolhida. Nossa expectativas era que a classificação da raíz fosse ¨normal¨, pois é a classificação que mais aparece.\n",
    "\n",
    "Algumas comparações interessantes com o que estudamos na matéria podem ser vistas, por exemplo, na ramificação que divide entre as classificações de **¨buffer_overflow¨ e ¨mscan¨**. Enquanto o buffer overflow é um ataque que explora o fato de quando o buffer estar cheio as informações irem para a pilha e se aproveita para manipular essas informações, o mscan funciona de forma semelhante a um port scan, no sentido de procurar máquinas com vulnerabilidades para um possível futuro ataque. É interessante notar que a variável escolhida para dividir os dados entre esses dois dados foi a **srv_diff_host_rate**, que siginifica a percentagem de coexões feitas para o mesmo serviço e hosts diferentes. Se essa porcentagem for menor que 0.35 classificamos como ¨mscan¨, que pode ser devido ao fato do mscan ter essa porcentagem por natureza menor em consequência a ele ¨testar¨ diversos serviços distintos para avaliar possíveis vulnerabilidades.\n",
    "\n",
    "Outro aspecto interessante da árvore que podemos traçar um paralelo com o conteúdo cisto em aula é a divisão dos dados entre as categorias **¨smurf¨ e ¨ftpwrite¨**. Ao passo que o smurf é um ataque de DDoS o FTP Write se dá pelo aproveitamento por parte do atacante de uma configuração errada de FTP *(permitindo que ele adicione e remova novos arquivos)*. De acordo com a árvore de decisão, se é identificado em um elemento que estava sendo classificado como ataque Smurf que ele possui **duração de conexão** maior que 279 segundos ele passa a ser classificado como ataque FTP Write. Imaginamos que isso pode ser devido ao fato que um atacante que faz FTP Write pode precisar de mais tempo para, por exemplo, fazer upload de um arquivo malicioso e o configurar na máquina infectada.\n",
    "\n",
    "#### Análise da árvore de decisão usando entropia\n",
    "\n",
    "A árvore de decisão utilizando entropia foi em diversos aspectos parecida com a árvore gerada quando utilizamos a métrica de Gini. Contudo, uma diferença que ficou clara foi que, utilizando a mesma profundidade de árvore, ela acabou conseguindo classificar ataques diferentes. Por exemplo, os tipos de ataque ¨back¨ e ¨xterm¨ só aparecem na árvore criada por Entropia, enquanto os ataques ¨Saint¨ e ¨nmap¨ só aparecem usando Gini.\n",
    "\n",
    "Podemos ter um insight interessante ao analisar o nó que divide ataques do tipo ¨apache2¨ e ¨buffer overflow¨ nessa árvore. Enquanto o apache2 configura um ataque de negação se serviço contra um server web ataque o buffer overflow, como já explicado, se aproveita da manipulação dos dados que cairam em overflow e foram para a stack. O interessante é notar que a variável que dividiu esses dois grupos foi a **¨same_srv_rate¨, que mede a porcentagem des conexões para o mesmo serviço**. O ataque apache2 tende a ter menos conexṍes para o mesmo serviço, uma vez que o buffer overflow precisa sempre se conectar ao mesmo serviço para agilizar que aconteza overflow."
   ]
  }
 ],
 "metadata": {
  "anaconda-cloud": {},
  "kernelspec": {
   "display_name": "Python 3",
   "language": "python",
   "name": "python3"
  },
  "language_info": {
   "codemirror_mode": {
    "name": "ipython",
    "version": 3
   },
   "file_extension": ".py",
   "mimetype": "text/x-python",
   "name": "python",
   "nbconvert_exporter": "python",
   "pygments_lexer": "ipython3",
   "version": "3.6.3"
  }
 },
 "nbformat": 4,
 "nbformat_minor": 2
}
