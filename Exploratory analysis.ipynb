{
 "cells": [
  {
   "cell_type": "markdown",
   "metadata": {},
   "source": [
    "# EEL840-KDD-CUP-99\n",
    "\n",
    "Trabalho realizado por Lucas Rolim e Yago Carvalho para a disciplina EEL840 - Tópicos Especiais em Sistemas de Comunicação\n",
    " \n",
    "## Contexto do tema abordado\n",
    " \n",
    "Nossa proposta é analisar o dataset do KDD Cup de 1999 contendo dados de diversos \n",
    "tipos de ataques simulados pela DARPA na rede da Força Aérea Americana em 1998.\n",
    " \n",
    "Esse dataset contém 4.898.431 registros *(dos quais inicialmente usaremos 10% por limitações computacionais)* e 31 features, sendo elas:\n",
    "\n",
    "\n",
    "### Variáveis básicas relacionadas ao TCP\n",
    "\n",
    "| Nome          | Descrição                                            | Tipo   |\n",
    "|---------------|------------------------------------------------------|--------|\n",
    "|duration       |número de segundos da conexão                         |contínua|\n",
    "|protocol_type  |tipo de protoclo usado *(ex: tcp,udp,etc)*            |discreta|\n",
    "|service        |tipo de servico de rede no destino *(ex: http,telnet)*|discreta|\n",
    "|src_bytes      |número de bytes transferidos da origem até o destino  |contínua|\n",
    "|dst_byte       |números de dados transferidos do destino até a origem |contínua|\n",
    "|flag           |status de erro da conexão                             |discreta|\n",
    "|land           |1 se a conexão é para o mesmo host/porta              |discreta|\n",
    "|wrong_fragments|número de fragmentos errados                          |contínua|\n",
    "|urgent         |número de pacotes urgentes                            |contínua|\n",
    "\n",
    "\n",
    "### Outras variáveis\n",
    "\n",
    "| Nome              | Descrição                                                                      | Tipo   |\n",
    "|-------------------|--------------------------------------------------------------------------------|--------|\n",
    "|hot                |número de *hot indicators*                                                      |contínua|\n",
    "|num_failed_logins  |número de tentativas de login que falharam                                      |contínua|\n",
    "|logged_in          |1 se está logado com sucesso                                                    |discreta|\n",
    "|num_compromised    |número de condições comprometidas                                               |contínua|\n",
    "|root_shell         |1 se o *root shell* foi obtido                                                  |discreta|\n",
    "|su_attempt         |1 se o commando *su root* foi tentado                                           |discreta|\n",
    "|num_root           |número de acessos do tipo *root*                                                |contínua|\n",
    "|num_file_creations |número de operações de criação de arquivos                                      |contínua|\n",
    "|num_shells         |número de shells iniciados                                                      |contínua|\n",
    "|num_access_files   |número de operações nos arquivos de controle de acesso                          |contínua|\n",
    "|num_outbound_cmds  |número de comandos de saída em uma sessão FTP                                   |contínua|\n",
    "|is_hot_login       |1 se o login pertece a list *hot*                                               |discreta|\n",
    "|is_guest_login     |1 se o login é feito por um convidado                                           |discreta|\n",
    "|count              |número de conexões para o mesmo host que a conexão atual nos últimos 2 segundos |contínua|\n",
    "|serror_rate        |% das conexões que possuem SYN error                                            |contínua|\n",
    "|rerror_rate        |% das conexões que possuem REJ error                                            |contínua|\n",
    "|same_srv_rate      |% das conexões para o mesmo serviço                                             |contínua|\n",
    "|diff_srv_rate      |% das conexões para diferentes serviços                                         |contínua|\n",
    "|srv_cont           |número de conexões para o mesmo serviço que o atual nos últimos 2 segundos      |contínua|\n",
    "|srv_serror_rate    |% das conexões que possuem SYN error (em conexão de mesmo serviço)              |contínua|\n",
    "|srv_rerror_rate    |% das conexões que possuem REJ error (em conexão de mesmo serviço)              |contínua|\n",
    "|srv_diff_host_rate |% das conexões para hosts diferentes                                            |contínua|\n",
    " \n",
    "## Problema específico envolvendo o tema abordado\n",
    "Conseguir classificar se a detecção um determinado padrão de features caracteriza ou não um ataque. Ainda, descobrir quais são as features que melhor caracterizam cada tipo de ataque.\n",
    " \n",
    "## Proposta de Implementação\n",
    " \n",
    "Para a análise pretendemos testar diversas técnicas de aprendizado de máquina, desde modelos de classificação até modelos de clusterização. Alguns dos exemplos de modelos que pretendemos testar são regressão logística, k-means, classificadores bayesianos, redes neurais e SVMs. Além disso, pretendemos criar visualizações eficientes e que permitam extrair informações interessantes​ ​dos​ ​dados,​ ​tais​ ​como​ ​histogramas,​ ​boxplots,​ ​matrizes​ ​de​ ​covariância​ ​e​ ​afins.\n",
    " \n",
    "## Resultados esperados\n",
    "Esperamos ser capazes de classificar com um grau maior que 70% de certeza se um conjunto de features caracteriza um ataque ou não. Além disso, pretendemos descobrir as 3 features que melhor caracterizam cada tipo de ataque (DoS,  Probins, R2L & U2R).\n",
    " "
   ]
  },
  {
   "cell_type": "markdown",
   "metadata": {},
   "source": [
    "----\n",
    "\n",
    "Implementação do trabalho\n",
    "----\n",
    "\n",
    "------"
   ]
  },
  {
   "cell_type": "code",
   "execution_count": 15,
   "metadata": {},
   "outputs": [],
   "source": [
    "# Importing libraries\n",
    "%matplotlib inline\n",
    "import os\n",
    "import numpy                   as np\n",
    "import pandas                  as pd\n",
    "import matplotlib              as pl\n",
    "import seaborn                 as sns\n",
    "import graphviz\n",
    "from  sklearn.model_selection  import train_test_split\n",
    "from  sklearn.tree             import DecisionTreeClassifier\n",
    "from  sklearn.neural_network   import MLPClassifier\n",
    "from  sklearn.metrics          import accuracy_score\n",
    "from  sklearn                  import tree\n",
    "from  sklearn.metrics          import confusion_matrix"
   ]
  },
  {
   "cell_type": "markdown",
   "metadata": {},
   "source": [
    "# Análise Exploratória"
   ]
  },
  {
   "cell_type": "markdown",
   "metadata": {},
   "source": [
    "Visando entender melhor o problema, vamos explorar o conjunto de dados e criar algumas visualizações que permitam um melhor entendimento sobre suas principais características. Basicamente, nessa etapa temos o objetivo de checar se as características gerais dos dados estão de acordo com o que é descrito na literatura e também pretendemos gerar *insights* que ajudem a entender melhor os modelos de classificação que vamos criar na etapa seguinte.\n",
    "\n",
    "\n",
    "Primeiro, vamos começar lendo o conjunto de dados e definindo o nome correto para suas colunas. Além disso, vamos criar dois conjuntos de dados para auxiliar na criação das visualizações, um contendo apenas variáveis discretas/categóricas e outro com as variáveis contínuas."
   ]
  },
  {
   "cell_type": "code",
   "execution_count": 4,
   "metadata": {},
   "outputs": [],
   "source": [
    "## Reading .csv files\n",
    "df = pd.read_csv(\"data/corrected.csv\",sep=',',header=None)\n",
    "\n",
    "## Defining columns\n",
    "col_names  = pd.read_csv(\"data/column_names.csv\",sep=',',header=None)[0].values\n",
    "df.columns = col_names\n",
    "\n",
    "\n",
    "## Identifying columns as categorical or not\n",
    "categorical_columns = [\"protocol_type\",\"service\",\"flag\",\"land\",\"logged_in\",\"root_shell\",\"su_attempted\",\n",
    "                       \"is_host_login\",\"is_guest_login\",\"label\"]\n",
    "\n",
    "df_categorical      = df[categorical_columns]\n",
    "df_non_categorical  = df.drop(categorical_columns, axis=1)"
   ]
  },
  {
   "cell_type": "markdown",
   "metadata": {},
   "source": [
    "Podemos perceber que ao analisar a média e o desvio padrão das variáveis não é possível extrair muita informação útil além do fato de notar uma alta variância em quase todas as features, o que mostra que os fluxos de rede coletados são bastante heterogêneos."
   ]
  },
  {
   "cell_type": "code",
   "execution_count": 5,
   "metadata": {
    "scrolled": true
   },
   "outputs": [
    {
     "data": {
      "text/html": [
       "<div>\n",
       "<style scoped>\n",
       "    .dataframe tbody tr th:only-of-type {\n",
       "        vertical-align: middle;\n",
       "    }\n",
       "\n",
       "    .dataframe tbody tr th {\n",
       "        vertical-align: top;\n",
       "    }\n",
       "\n",
       "    .dataframe thead th {\n",
       "        text-align: right;\n",
       "    }\n",
       "</style>\n",
       "<table border=\"1\" class=\"dataframe\">\n",
       "  <thead>\n",
       "    <tr style=\"text-align: right;\">\n",
       "      <th></th>\n",
       "      <th>duration</th>\n",
       "      <th>src_bytes</th>\n",
       "      <th>dst_bytes</th>\n",
       "      <th>wrong_fragment</th>\n",
       "      <th>urgent</th>\n",
       "      <th>hot</th>\n",
       "      <th>num_failed_logins</th>\n",
       "      <th>num_compromised</th>\n",
       "      <th>num_root</th>\n",
       "      <th>num_file_creations</th>\n",
       "      <th>...</th>\n",
       "      <th>dst_host_count</th>\n",
       "      <th>dst_host_srv_count</th>\n",
       "      <th>dst_host_same_srv_rate</th>\n",
       "      <th>dst_host_diff_srv_rate</th>\n",
       "      <th>dst_host_same_src_port_rate</th>\n",
       "      <th>dst_host_srv_diff_host_rate</th>\n",
       "      <th>dst_host_serror_rate</th>\n",
       "      <th>dst_host_srv_serror_rate</th>\n",
       "      <th>dst_host_rerror_rate</th>\n",
       "      <th>dst_host_srv_rerror_rate</th>\n",
       "    </tr>\n",
       "  </thead>\n",
       "  <tbody>\n",
       "    <tr>\n",
       "      <th>count</th>\n",
       "      <td>311029.000000</td>\n",
       "      <td>3.110290e+05</td>\n",
       "      <td>3.110290e+05</td>\n",
       "      <td>311029.000000</td>\n",
       "      <td>311029.000000</td>\n",
       "      <td>311029.000000</td>\n",
       "      <td>311029.000000</td>\n",
       "      <td>311029.000000</td>\n",
       "      <td>311029.000000</td>\n",
       "      <td>311029.000000</td>\n",
       "      <td>...</td>\n",
       "      <td>311029.000000</td>\n",
       "      <td>311029.000000</td>\n",
       "      <td>311029.000000</td>\n",
       "      <td>311029.000000</td>\n",
       "      <td>311029.000000</td>\n",
       "      <td>311029.000000</td>\n",
       "      <td>311029.000000</td>\n",
       "      <td>311029.000000</td>\n",
       "      <td>311029.000000</td>\n",
       "      <td>311029.000000</td>\n",
       "    </tr>\n",
       "    <tr>\n",
       "      <th>mean</th>\n",
       "      <td>17.902736</td>\n",
       "      <td>1.731702e+03</td>\n",
       "      <td>7.479937e+02</td>\n",
       "      <td>0.000762</td>\n",
       "      <td>0.000051</td>\n",
       "      <td>0.014677</td>\n",
       "      <td>0.002363</td>\n",
       "      <td>0.011243</td>\n",
       "      <td>0.008359</td>\n",
       "      <td>0.000958</td>\n",
       "      <td>...</td>\n",
       "      <td>235.282681</td>\n",
       "      <td>199.193914</td>\n",
       "      <td>0.793494</td>\n",
       "      <td>0.024953</td>\n",
       "      <td>0.547919</td>\n",
       "      <td>0.004566</td>\n",
       "      <td>0.058764</td>\n",
       "      <td>0.058791</td>\n",
       "      <td>0.142659</td>\n",
       "      <td>0.141693</td>\n",
       "    </tr>\n",
       "    <tr>\n",
       "      <th>std</th>\n",
       "      <td>407.644400</td>\n",
       "      <td>1.276567e+05</td>\n",
       "      <td>1.612018e+04</td>\n",
       "      <td>0.040367</td>\n",
       "      <td>0.009821</td>\n",
       "      <td>0.312068</td>\n",
       "      <td>0.049990</td>\n",
       "      <td>1.958325</td>\n",
       "      <td>2.165196</td>\n",
       "      <td>0.193119</td>\n",
       "      <td>...</td>\n",
       "      <td>60.913298</td>\n",
       "      <td>100.306470</td>\n",
       "      <td>0.387090</td>\n",
       "      <td>0.096003</td>\n",
       "      <td>0.491963</td>\n",
       "      <td>0.035773</td>\n",
       "      <td>0.231296</td>\n",
       "      <td>0.232997</td>\n",
       "      <td>0.344380</td>\n",
       "      <td>0.346573</td>\n",
       "    </tr>\n",
       "    <tr>\n",
       "      <th>min</th>\n",
       "      <td>0.000000</td>\n",
       "      <td>0.000000e+00</td>\n",
       "      <td>0.000000e+00</td>\n",
       "      <td>0.000000</td>\n",
       "      <td>0.000000</td>\n",
       "      <td>0.000000</td>\n",
       "      <td>0.000000</td>\n",
       "      <td>0.000000</td>\n",
       "      <td>0.000000</td>\n",
       "      <td>0.000000</td>\n",
       "      <td>...</td>\n",
       "      <td>0.000000</td>\n",
       "      <td>0.000000</td>\n",
       "      <td>0.000000</td>\n",
       "      <td>0.000000</td>\n",
       "      <td>0.000000</td>\n",
       "      <td>0.000000</td>\n",
       "      <td>0.000000</td>\n",
       "      <td>0.000000</td>\n",
       "      <td>0.000000</td>\n",
       "      <td>0.000000</td>\n",
       "    </tr>\n",
       "    <tr>\n",
       "      <th>25%</th>\n",
       "      <td>0.000000</td>\n",
       "      <td>1.050000e+02</td>\n",
       "      <td>0.000000e+00</td>\n",
       "      <td>0.000000</td>\n",
       "      <td>0.000000</td>\n",
       "      <td>0.000000</td>\n",
       "      <td>0.000000</td>\n",
       "      <td>0.000000</td>\n",
       "      <td>0.000000</td>\n",
       "      <td>0.000000</td>\n",
       "      <td>...</td>\n",
       "      <td>255.000000</td>\n",
       "      <td>244.000000</td>\n",
       "      <td>0.970000</td>\n",
       "      <td>0.000000</td>\n",
       "      <td>0.000000</td>\n",
       "      <td>0.000000</td>\n",
       "      <td>0.000000</td>\n",
       "      <td>0.000000</td>\n",
       "      <td>0.000000</td>\n",
       "      <td>0.000000</td>\n",
       "    </tr>\n",
       "    <tr>\n",
       "      <th>50%</th>\n",
       "      <td>0.000000</td>\n",
       "      <td>5.200000e+02</td>\n",
       "      <td>0.000000e+00</td>\n",
       "      <td>0.000000</td>\n",
       "      <td>0.000000</td>\n",
       "      <td>0.000000</td>\n",
       "      <td>0.000000</td>\n",
       "      <td>0.000000</td>\n",
       "      <td>0.000000</td>\n",
       "      <td>0.000000</td>\n",
       "      <td>...</td>\n",
       "      <td>255.000000</td>\n",
       "      <td>255.000000</td>\n",
       "      <td>1.000000</td>\n",
       "      <td>0.000000</td>\n",
       "      <td>1.000000</td>\n",
       "      <td>0.000000</td>\n",
       "      <td>0.000000</td>\n",
       "      <td>0.000000</td>\n",
       "      <td>0.000000</td>\n",
       "      <td>0.000000</td>\n",
       "    </tr>\n",
       "    <tr>\n",
       "      <th>75%</th>\n",
       "      <td>0.000000</td>\n",
       "      <td>1.032000e+03</td>\n",
       "      <td>0.000000e+00</td>\n",
       "      <td>0.000000</td>\n",
       "      <td>0.000000</td>\n",
       "      <td>0.000000</td>\n",
       "      <td>0.000000</td>\n",
       "      <td>0.000000</td>\n",
       "      <td>0.000000</td>\n",
       "      <td>0.000000</td>\n",
       "      <td>...</td>\n",
       "      <td>255.000000</td>\n",
       "      <td>255.000000</td>\n",
       "      <td>1.000000</td>\n",
       "      <td>0.010000</td>\n",
       "      <td>1.000000</td>\n",
       "      <td>0.000000</td>\n",
       "      <td>0.000000</td>\n",
       "      <td>0.000000</td>\n",
       "      <td>0.000000</td>\n",
       "      <td>0.000000</td>\n",
       "    </tr>\n",
       "    <tr>\n",
       "      <th>max</th>\n",
       "      <td>57715.000000</td>\n",
       "      <td>6.282565e+07</td>\n",
       "      <td>5.203179e+06</td>\n",
       "      <td>3.000000</td>\n",
       "      <td>3.000000</td>\n",
       "      <td>101.000000</td>\n",
       "      <td>4.000000</td>\n",
       "      <td>796.000000</td>\n",
       "      <td>878.000000</td>\n",
       "      <td>100.000000</td>\n",
       "      <td>...</td>\n",
       "      <td>255.000000</td>\n",
       "      <td>255.000000</td>\n",
       "      <td>1.000000</td>\n",
       "      <td>1.000000</td>\n",
       "      <td>1.000000</td>\n",
       "      <td>1.000000</td>\n",
       "      <td>1.000000</td>\n",
       "      <td>1.000000</td>\n",
       "      <td>1.000000</td>\n",
       "      <td>1.000000</td>\n",
       "    </tr>\n",
       "  </tbody>\n",
       "</table>\n",
       "<p>8 rows × 32 columns</p>\n",
       "</div>"
      ],
      "text/plain": [
       "            duration     src_bytes     dst_bytes  wrong_fragment  \\\n",
       "count  311029.000000  3.110290e+05  3.110290e+05   311029.000000   \n",
       "mean       17.902736  1.731702e+03  7.479937e+02        0.000762   \n",
       "std       407.644400  1.276567e+05  1.612018e+04        0.040367   \n",
       "min         0.000000  0.000000e+00  0.000000e+00        0.000000   \n",
       "25%         0.000000  1.050000e+02  0.000000e+00        0.000000   \n",
       "50%         0.000000  5.200000e+02  0.000000e+00        0.000000   \n",
       "75%         0.000000  1.032000e+03  0.000000e+00        0.000000   \n",
       "max     57715.000000  6.282565e+07  5.203179e+06        3.000000   \n",
       "\n",
       "              urgent            hot  num_failed_logins  num_compromised  \\\n",
       "count  311029.000000  311029.000000      311029.000000    311029.000000   \n",
       "mean        0.000051       0.014677           0.002363         0.011243   \n",
       "std         0.009821       0.312068           0.049990         1.958325   \n",
       "min         0.000000       0.000000           0.000000         0.000000   \n",
       "25%         0.000000       0.000000           0.000000         0.000000   \n",
       "50%         0.000000       0.000000           0.000000         0.000000   \n",
       "75%         0.000000       0.000000           0.000000         0.000000   \n",
       "max         3.000000     101.000000           4.000000       796.000000   \n",
       "\n",
       "            num_root  num_file_creations            ...             \\\n",
       "count  311029.000000       311029.000000            ...              \n",
       "mean        0.008359            0.000958            ...              \n",
       "std         2.165196            0.193119            ...              \n",
       "min         0.000000            0.000000            ...              \n",
       "25%         0.000000            0.000000            ...              \n",
       "50%         0.000000            0.000000            ...              \n",
       "75%         0.000000            0.000000            ...              \n",
       "max       878.000000          100.000000            ...              \n",
       "\n",
       "       dst_host_count  dst_host_srv_count  dst_host_same_srv_rate  \\\n",
       "count   311029.000000       311029.000000           311029.000000   \n",
       "mean       235.282681          199.193914                0.793494   \n",
       "std         60.913298          100.306470                0.387090   \n",
       "min          0.000000            0.000000                0.000000   \n",
       "25%        255.000000          244.000000                0.970000   \n",
       "50%        255.000000          255.000000                1.000000   \n",
       "75%        255.000000          255.000000                1.000000   \n",
       "max        255.000000          255.000000                1.000000   \n",
       "\n",
       "       dst_host_diff_srv_rate  dst_host_same_src_port_rate  \\\n",
       "count           311029.000000                311029.000000   \n",
       "mean                 0.024953                     0.547919   \n",
       "std                  0.096003                     0.491963   \n",
       "min                  0.000000                     0.000000   \n",
       "25%                  0.000000                     0.000000   \n",
       "50%                  0.000000                     1.000000   \n",
       "75%                  0.010000                     1.000000   \n",
       "max                  1.000000                     1.000000   \n",
       "\n",
       "       dst_host_srv_diff_host_rate  dst_host_serror_rate  \\\n",
       "count                311029.000000         311029.000000   \n",
       "mean                      0.004566              0.058764   \n",
       "std                       0.035773              0.231296   \n",
       "min                       0.000000              0.000000   \n",
       "25%                       0.000000              0.000000   \n",
       "50%                       0.000000              0.000000   \n",
       "75%                       0.000000              0.000000   \n",
       "max                       1.000000              1.000000   \n",
       "\n",
       "       dst_host_srv_serror_rate  dst_host_rerror_rate  \\\n",
       "count             311029.000000         311029.000000   \n",
       "mean                   0.058791              0.142659   \n",
       "std                    0.232997              0.344380   \n",
       "min                    0.000000              0.000000   \n",
       "25%                    0.000000              0.000000   \n",
       "50%                    0.000000              0.000000   \n",
       "75%                    0.000000              0.000000   \n",
       "max                    1.000000              1.000000   \n",
       "\n",
       "       dst_host_srv_rerror_rate  \n",
       "count             311029.000000  \n",
       "mean                   0.141693  \n",
       "std                    0.346573  \n",
       "min                    0.000000  \n",
       "25%                    0.000000  \n",
       "50%                    0.000000  \n",
       "75%                    0.000000  \n",
       "max                    1.000000  \n",
       "\n",
       "[8 rows x 32 columns]"
      ]
     },
     "execution_count": 5,
     "metadata": {},
     "output_type": "execute_result"
    }
   ],
   "source": [
    "## A glance at the non categorical data\n",
    "df_non_categorical.describe()"
   ]
  },
  {
   "cell_type": "markdown",
   "metadata": {},
   "source": [
    "## Análise de variáveis discretas\n",
    "\n",
    "\n",
    "### Relação entre Ataques e Serviços de Rede\n",
    "\n",
    "Vamos começar analisando a relação entre o serviço de rede utilizado pelo destino dos pacotes e os ataques identificados. Para tal, vamos plotar um gráfico de barras que mostra o percentual de participação de cada serviço de rede em cada ataque.\n",
    "\n",
    "**De modo a facilitar a visualização, vamos considerar apenas ataques que representem ao menos 1% do percentual total de ataques ou tipos de serviço de rede.**\n",
    "\n"
   ]
  },
  {
   "cell_type": "code",
   "execution_count": 6,
   "metadata": {
    "scrolled": false
   },
   "outputs": [
    {
     "data": {
      "image/png": "[encoded data removed]",
      "text/plain": [
       "<matplotlib.figure.Figure at 0x7f1a1f88c780>"
      ]
     },
     "metadata": {},
     "output_type": "display_data"
    }
   ],
   "source": [
    "## Create a subset of main dataset (f_data) that contains only services and labels that represents at\n",
    "## least 1% of the total cases\n",
    "\n",
    "f_services = pd.crosstab(index=df[\"service\"],columns=\"count\")\n",
    "f_services = f_services/len(df)\n",
    "f_services = f_services[f_services[\"count\"] > 0.01]\n",
    "\n",
    "f_attacks = pd.crosstab(index=df[\"label\"],columns=\"count\")\n",
    "f_attacks = f_attacks/len(df)\n",
    "f_attacks = f_attacks[f_attacks[\"count\"] > 0.01]\n",
    "\n",
    "f_data = df[df['service'].isin(list(f_services.index))]\n",
    "f_data = f_data[f_data['label'].isin(list(f_attacks.index))]\n",
    "\n",
    "## Create the plot\n",
    "\n",
    "attack_data = pd.crosstab(index = f_data[\"label\"], columns=f_data[\"service\"])\n",
    "frequency_table_attack = (attack_data/attack_data.sum())\n",
    "\n",
    "frequency_table_attack.plot(kind=\"bar\", \n",
    "                 figsize=(8,8),\n",
    "                 stacked=True);"
   ]
  },
  {
   "cell_type": "markdown",
   "metadata": {},
   "source": [
    "Através do gráfico acima já é possível conhecer algumas características importantes dos dados, tais quais os principais tipos de ataque presente e de protocolo de serviço utilizados.\n",
    "\n",
    "Vemos que claramente a maior parte do fluxo de rede presente no conjunto de dados é caracterizada como ¨normal¨, ou seja, um fluxo de rede sem nenhum tipo de atividade maliciosa detectada. Além disso, **os principais ataques que estão presentes nos dados são SYN Flood (Neptune),guess_passord, mailbomb e Smurf.**"
   ]
  },
  {
   "cell_type": "markdown",
   "metadata": {},
   "source": [
    "### Relação entre Ataques e Tipos de Protocolo\n",
    "\n",
    "Utilizando a mesma abordagem anterior, iremos avaliar o percentual de participcação de cada protocolo de rede em cada tipo de ataque.\n",
    "\n",
    "O objetivo desse análise é visualizar se existe alguma característica que foge do conhecido pela literatura."
   ]
  },
  {
   "cell_type": "code",
   "execution_count": 7,
   "metadata": {
    "scrolled": false
   },
   "outputs": [
    {
     "data": {
      "image/png": "[encoded data removed]",
      "text/plain": [
       "<matplotlib.figure.Figure at 0x7f1a1c439c50>"
      ]
     },
     "metadata": {},
     "output_type": "display_data"
    }
   ],
   "source": [
    "## Create a subset of main dataset (f_data) that contains only protocols and labels that represents at\n",
    "## least 1% of the total cases\n",
    "\n",
    "f_protocol = pd.crosstab(index=df[\"protocol_type\"],columns=\"count\")\n",
    "f_protocol = f_protocol/len(df)\n",
    "f_protocol = f_protocol[f_protocol[\"count\"] > 0.01]\n",
    "\n",
    "f_data = df[df['protocol_type'].isin(list(f_protocol.index))]\n",
    "f_data = f_data[f_data['label'].isin(list(f_attacks.index))]\n",
    "\n",
    "## Create a Two-Way Table\n",
    "\n",
    "relationship_protocoal_attack = pd.crosstab(index=f_data[\"label\"], \n",
    "                          columns=f_data[\"protocol_type\"])\n",
    "## Plot the Two-Way Table\n",
    "relationship_protocoal_attack.plot(kind=\"bar\", \n",
    "                 figsize=(8,8),\n",
    "                 stacked=True);"
   ]
  },
  {
   "cell_type": "markdown",
   "metadata": {},
   "source": [
    "Como já era esperado pelo conhecimento da literatura, ataques do tipo SYN Flood *(Neptune)* ocorreram em redes com protocolo TCP e ataques Smurf em redes ICMP.Também podemos notar que os ataques do tipo SNMP foram feitos exclusivamente em redes que utizam UDP."
   ]
  },
  {
   "cell_type": "markdown",
   "metadata": {},
   "source": [
    "### Participação percentual de cada tipo de protocolo de rede\n",
    "\n",
    "O gráfico abaixo visa dar uma visão geral da participação de cada tipo de protocolo na rede na qual os dados foram coletados."
   ]
  },
  {
   "cell_type": "code",
   "execution_count": 8,
   "metadata": {},
   "outputs": [
    {
     "data": {
      "image/png": "[encoded data removed]",
      "text/plain": [
       "<matplotlib.figure.Figure at 0x7f1a1f8b81d0>"
      ]
     },
     "metadata": {},
     "output_type": "display_data"
    }
   ],
   "source": [
    "## Create a cross tab dataframe\n",
    "protocol_data = pd.crosstab(index = df[\"protocol_type\"],columns=\"Protocol type\")\n",
    "frequency_table_protocol = (protocol_data/protocol_data.sum())\n",
    "\n",
    "## Plot the dataframe\n",
    "frequency_table_protocol.plot.bar();"
   ]
  },
  {
   "cell_type": "markdown",
   "metadata": {},
   "source": [
    "## Análise de variáveis contínuas"
   ]
  },
  {
   "cell_type": "markdown",
   "metadata": {},
   "source": [
    "### Análise dos usuários logados no sistema\n",
    "\n",
    "Julgamos interessante avaliar o padrão de comportamento dos usuários que de alguma forma estão logados na rede. Dessa forma, iremos criar gráficos que analisam se alguma ameaça foi detectada para os seguintes tipos de usuários:\n",
    "\n",
    "- usuários logados como convidados;\n",
    "- usuários na lista de ¨hot¨."
   ]
  },
  {
   "cell_type": "code",
   "execution_count": 9,
   "metadata": {
    "scrolled": false
   },
   "outputs": [
    {
     "data": {
      "text/plain": [
       "<matplotlib.axes._subplots.AxesSubplot at 0x7f1a1d842240>"
      ]
     },
     "execution_count": 9,
     "metadata": {},
     "output_type": "execute_result"
    },
    {
     "data": {
      "image/png": "[encoded data removed]",
      "text/plain": [
       "<matplotlib.figure.Figure at 0x7f1a1c4312b0>"
      ]
     },
     "metadata": {},
     "output_type": "display_data"
    }
   ],
   "source": [
    "df_temp = df[[\"is_guest_login\",\"label\"]]\n",
    "df_temp = df_temp.loc[df_temp['is_guest_login'] == 1]\n",
    "df_temp.groupby([\"label\"]).count().plot(kind='bar', title =\"Análise de ataques feitos por usuários convidados do sistema\", figsize=(10, 5), legend=True, fontsize=12)"
   ]
  },
  {
   "cell_type": "markdown",
   "metadata": {},
   "source": [
    "**Podemos notar que todos os ataques identificados nessa categoria de usuários são do tipo R2L** *(remote to local)*.\n",
    "\n",
    "Ataques desse tipo ocorrem quando um atacante tem a habilidadede enviar pacotes para uma máquina através da rede, mas não tem uma conta nessa máquina e explora alguma vulnerabilidade para ganhar acesso local como usuário da máquina. Ou seja, provavelmente esses ¨usuários convidados¨ identificados provavelmente tiveram seu login hackeado pelo atacante."
   ]
  },
  {
   "cell_type": "code",
   "execution_count": 10,
   "metadata": {},
   "outputs": [
    {
     "data": {
      "text/plain": [
       "<matplotlib.axes._subplots.AxesSubplot at 0x7f1a1d8295f8>"
      ]
     },
     "execution_count": 10,
     "metadata": {},
     "output_type": "execute_result"
    },
    {
     "data": {
      "image/png": "[encoded data removed]",
      "text/plain": [
       "<matplotlib.figure.Figure at 0x7f1a1d78b2e8>"
      ]
     },
     "metadata": {},
     "output_type": "display_data"
    }
   ],
   "source": [
    "df_temp = df[[\"is_host_login\",\"label\"]]\n",
    "df_temp = df_temp.loc[df_temp[\"is_host_login\"] == 1]\n",
    "df_temp.groupby([\"label\"]).count().plot(kind='bar', title =\"Análise de ataques feitos por usuários hot (perigosos)\", figsize=(10, 5), legend=True, fontsize=12)"
   ]
  },
  {
   "cell_type": "markdown",
   "metadata": {},
   "source": [
    "Nesse caso temos também ataques do tipo **U2R** *(User to Root attack)*. Nesse caso o atacante acessa o sistema como usuário normal *(ganho por : sniffing password, um dicionário local ou engenharia social)* e passa a explorar vulnerabilidades para ganhar acesso como root ao sistema."
   ]
  },
  {
   "cell_type": "markdown",
   "metadata": {},
   "source": [
    "\n",
    "## Análise de dados redundantes\n",
    "\n",
    "De acordo com Tavallaee (2009), o grande número de registros redundantes pode enviesar os classificadores para os registros mais frequentes. Dessa forma, o autor propõe um novo dataset, removendo as duplicatas. Assim, analisaremos o dataset KDD99 completo e o sem as duplicatas. Para tal analisaremos a razão entre os dados únicos e os duplicados e plotaremos os gráficos de relação entre os ataques e serviços, e entre os ataques e protocolos utilizados."
   ]
  },
  {
   "cell_type": "code",
   "execution_count": 11,
   "metadata": {},
   "outputs": [
    {
     "name": "stdout",
     "output_type": "stream",
     "text": [
      "\n",
      " O dataset sem duplicatas é 75.15% menor que o dataset original,\n"
     ]
    }
   ],
   "source": [
    "# Removing dupicates\n",
    "df_no_duplicates = df.drop_duplicates()\n",
    "percentage = 1 - float(df_no_duplicates[\"protocol_type\"].count())/float(df[\"protocol_type\"].count())\n",
    "print(\"\\n O dataset sem duplicatas é {}% menor que o dataset original,\".format(round(percentage * 100,2)))"
   ]
  },
  {
   "cell_type": "markdown",
   "metadata": {},
   "source": [
    "# Modelos de classificação"
   ]
  },
  {
   "cell_type": "markdown",
   "metadata": {},
   "source": [
    "Antes de executar nossos modelos, vamos realizar algumas modificações em nosso conjunto de dados. São elas:\n",
    "\n",
    "#### 1. Transformar categorias que são strings em categorias numéricas\n",
    "Essa transformação é necessária para que possamos utilizar as variáveis literais nos modelos, pois alguns só tem suporte a variáveis numéricas\n",
    "\n",
    "#### 2. Atribuir uma categoria binária de ataque ou não ataque para cada um dos registros  \n",
    "A principal função de IDS é detectar se um ataque está ou não acontecendo, independente do tipo dele. Dessa forma, fizemos a binarização da classificação a fim de descobrir como os modelos se comportam na detecção de ataques de maneira genérica, podendo ser utilizado em um IDS real.\n",
    "\n",
    "#### 3. Criar um conjunto de dados para treino e outro para teste e validação dos modelos, usando a proporção (0.8/0.2)\n",
    "\n"
   ]
  },
  {
   "cell_type": "code",
   "execution_count": 12,
   "metadata": {},
   "outputs": [],
   "source": [
    "# Mapping strings categories to int\n",
    "\n",
    "df_binary = df.copy()\n",
    "df_binary.loc[df_binary.label != 'normal.','label']= 1\n",
    "df_binary.loc[df_binary.label == 'normal.','label']= 0\n",
    "\n",
    "df_binary_duplicates = df_no_duplicates.copy()\n",
    "df_binary_duplicates.loc[df_binary_duplicates.label != 'normal.','label']= 1\n",
    "df_binary_duplicates.loc[df_binary_duplicates.label == 'normal.','label']= 0\n",
    "\n",
    "\n",
    "c1 = df_binary.protocol_type.unique()\n",
    "c2 = df_binary.service.unique()\n",
    "c3 = df_binary.flag.unique()\n",
    "\n",
    "d_protocol = {}\n",
    "d_service = {}\n",
    "d_flag = {}\n",
    "\n",
    "for i in range(len(c1)):\n",
    "    d_protocol[c1[i]] = i\n",
    "\n",
    "for i in range(len(c2)):\n",
    "    d_service[c2[i]] = i\n",
    "    \n",
    "for i in range(len(c3)):\n",
    "    d_flag[c3[i]] = i\n",
    "\n",
    "    \n",
    "for i in d_protocol:\n",
    "    df_binary        = df_binary.replace(i, d_protocol[i])\n",
    "    df_binary_duplicates = df_binary_duplicates.replace(i, d_protocol[i])\n",
    "    df_no_duplicates = df_no_duplicates.replace(i, d_protocol[i])\n",
    "    df               = df.replace(i, d_protocol[i])\n",
    "for i in d_service:\n",
    "    df_binary        = df_binary.replace(i, d_service[i])\n",
    "    df_binary_duplicates = df_binary_duplicates.replace(i, d_service[i])\n",
    "    df_no_duplicates = df_no_duplicates.replace(i, d_service[i])\n",
    "    df               = df.replace(i, d_service[i])\n",
    "for i in d_flag:\n",
    "    df_binary        = df_binary.replace(i, d_flag[i])\n",
    "    df_binary_duplicates = df_binary_duplicates.replace(i, d_flag[i])\n",
    "    df_no_duplicates = df_no_duplicates.replace(i, d_flag[i])\n",
    "    df               = df.replace(i, d_flag[i])\n",
    "\n",
    "import random\n",
    "random.seed(1610)\n",
    "\n",
    "## Split the data in train and test datasets (with duplicates)\n",
    "\n",
    "df_b = df_binary.copy()\n",
    "y_b = pd.factorize(df_b['label'])[0]\n",
    "df_b = df_b.drop('label', 1)\n",
    "X_train_b, X_test_b, y_train_b, y_test_b = train_test_split(df_b, y_b, test_size=0.2, random_state=42)\n",
    "\n",
    "\n",
    "## Split the data in train and test datasets (without duplicates)\n",
    "df_b_nd = df_binary_duplicates.copy()\n",
    "y_b_nd = pd.factorize(df_b_nd['label'])[0]\n",
    "df_b_nd = df_b_nd.drop('label', 1)\n",
    "X_train_bnd, X_test_bnd, y_train_bnd, y_test_bnd = train_test_split(df_b_nd, y_b_nd, test_size=0.2, random_state=42)\n",
    "\n",
    "\n",
    "# Dataset (non binary) with duplicates\n",
    "\n",
    "df_temp = df.copy()\n",
    "y = df_temp['label']\n",
    "df_temp = df_temp.drop('label', 1)\n",
    "X_train, X_test, y_train, y_test = train_test_split(df_temp, y, test_size=0.2, random_state=42)\n",
    "\n",
    "# Dataset (non binary) without duplicates\n",
    "\n",
    "df_nd  = df_no_duplicates.copy()\n",
    "y_nd = df_nd['label']\n",
    "df_nd = df_nd.drop('label', 1)\n",
    "X_train_nd, X_test_nd, y_train_nd, y_test_nd = train_test_split(df_nd , y_nd, test_size=0.2, random_state=42)"
   ]
  },
  {
   "cell_type": "code",
   "execution_count": 14,
   "metadata": {
    "scrolled": true
   },
   "outputs": [
    {
     "name": "stdout",
     "output_type": "stream",
     "text": [
      "0 private\n",
      "1 domain_u\n",
      "2 http\n",
      "3 smtp\n",
      "4 ftp_data\n",
      "5 ftp\n",
      "6 eco_i\n",
      "7 other\n",
      "8 auth\n",
      "9 ecr_i\n",
      "10 IRC\n",
      "11 X11\n",
      "12 finger\n",
      "13 time\n",
      "14 domain\n",
      "15 telnet\n",
      "16 pop_3\n",
      "17 ldap\n",
      "18 login\n",
      "19 name\n",
      "20 ntp_u\n",
      "21 http_443\n",
      "22 sunrpc\n",
      "23 printer\n",
      "24 systat\n",
      "25 tim_i\n",
      "26 netstat\n",
      "27 remote_job\n",
      "28 link\n",
      "29 urp_i\n",
      "30 sql_net\n",
      "31 bgp\n",
      "32 pop_2\n",
      "33 tftp_u\n",
      "34 uucp\n",
      "35 imap4\n",
      "36 pm_dump\n",
      "37 nnsp\n",
      "38 courier\n",
      "39 daytime\n",
      "40 iso_tsap\n",
      "41 echo\n",
      "42 discard\n",
      "43 ssh\n",
      "44 whois\n",
      "45 mtp\n",
      "46 gopher\n",
      "47 rje\n",
      "48 ctf\n",
      "49 supdup\n",
      "50 hostnames\n",
      "51 csnet_ns\n",
      "52 uucp_path\n",
      "53 nntp\n",
      "54 netbios_ns\n",
      "55 netbios_dgm\n",
      "56 netbios_ssn\n",
      "57 vmnet\n",
      "58 Z39_50\n",
      "59 exec\n",
      "60 shell\n",
      "61 efs\n",
      "62 klogin\n",
      "63 kshell\n",
      "64 icmp\n"
     ]
    }
   ],
   "source": [
    "for i in d_service:\n",
    "    print(d_service[i], i)"
   ]
  },
  {
   "cell_type": "code",
   "execution_count": 13,
   "metadata": {},
   "outputs": [],
   "source": [
    "# Creating array of dicts containing datasets\n",
    "models = [{\"name\":\"Binario com duplicatas\",\"X\":X_train_b,\"Y\":y_train_b,\"X_test\":X_test_b,\"Y_test\":y_test_b, \"slug\":\"b\"},\n",
    "         {\"name\":\"Binario sem duplicatas\",\"X\":X_train_bnd,\"Y\":y_train_bnd,\"X_test\":X_test_bnd,\"Y_test\":y_test_bnd, \"slug\":\"bnd\"},\n",
    "         {\"name\":\"Nao binario com duplicatas\",\"X\":X_train,\"Y\":y_train,\"X_test\":X_test,\"Y_test\":y_test, \"slug\":\"nb\"},\n",
    "         {\"name\":\"Nao binario sem duplicatas\",\"X\":X_train_nd,\"Y\":y_train_nd,\"X_test\":X_test_nd,\"Y_test\":y_test_nd, \"slug\":\"nbnd\"}]"
   ]
  },
  {
   "cell_type": "markdown",
   "metadata": {
    "collapsed": true
   },
   "source": [
    "## Naives Bayes"
   ]
  },
  {
   "cell_type": "markdown",
   "metadata": {},
   "source": [
    "O primeiro modelo que iremos testar para a classificação é o Naives Bayes. Esse modelo é baseado no Teorema de Bayes e faz a suposição que todas as variáveis são independentes entre si, o que nós não acreditamos que seja uma verdade. Visto isso, é esperado que esse seja o modelo que alcance o pior desempenho destre todos que iremos testar."
   ]
  },
  {
   "cell_type": "code",
   "execution_count": 17,
   "metadata": {},
   "outputs": [
    {
     "name": "stdout",
     "output_type": "stream",
     "text": [
      "A acurácia do modelo Binario com duplicatas foi de: 0.925602031958332\n",
      "\n",
      "O recall e: 0.922871598741086\n",
      "A precisao e: 0.9839442721828144\n",
      "\n",
      " ------------------------------------\n",
      "\n",
      "A acurácia do modelo Binario sem duplicatas foi de: 0.9102788019923669\n",
      "\n",
      "O recall e: 0.8350033400133601\n",
      "A precisao e: 0.9260974254491573\n",
      "\n",
      " ------------------------------------\n",
      "\n",
      "A acurácia do modelo Nao binario com duplicatas foi de: 0.922049320001286\n",
      "\n",
      " ------------------------------------\n",
      "\n",
      "A acurácia do modelo Nao binario sem duplicatas foi de: 0.7737240442460702\n",
      "\n",
      " ------------------------------------\n",
      "\n"
     ]
    }
   ],
   "source": [
    "from sklearn.naive_bayes import GaussianNB\n",
    "for i in range(len(models)):\n",
    "    gnb = GaussianNB()\n",
    "    gnb.fit(models[i][\"X\"],models[i][\"Y\"])\n",
    "    print(\"A acurácia do modelo {} foi de: {}\".format(models[i][\"name\"],gnb.score(models[i][\"X_test\"],models[i][\"Y_test\"])))\n",
    "    if (i < 2):\n",
    "        tn, fp, fn, tp = confusion_matrix(models[i][\"Y_test\"], gnb.predict(models[i][\"X_test\"])).ravel()\n",
    "        print(\"\\nO recall e: {}\".format(tp/(tp+fn)))\n",
    "        print(\"A precisao e: {}\".format(tp/(tp+fp)))\n",
    "    print(\"\\n ------------------------------------\\n\")"
   ]
  },
  {
   "cell_type": "markdown",
   "metadata": {},
   "source": [
    "## Multilayer Perceptron"
   ]
  },
  {
   "cell_type": "code",
   "execution_count": 18,
   "metadata": {},
   "outputs": [
    {
     "name": "stdout",
     "output_type": "stream",
     "text": [
      "A acurácia do modelo Binario com duplicatas foi de: 0.9321930360415394\n",
      "\n",
      "O recall e: 0.9997012071232222\n",
      "A precisao e: 0.9227247655819084\n",
      "\n",
      " ------------------------------------\n",
      "\n",
      "A acurácia do modelo Binario sem duplicatas foi de: 0.9157125299178472\n",
      "\n",
      "O recall e: 0.7909151636606546\n",
      "A precisao e: 0.989346145811573\n",
      "\n",
      " ------------------------------------\n",
      "\n",
      "A acurácia do modelo Nao binario com duplicatas foi de: 0.7194643603510915\n",
      "\n",
      " ------------------------------------\n",
      "\n",
      "A acurácia do modelo Nao binario sem duplicatas foi de: 0.9298790348664209\n",
      "\n",
      " ------------------------------------\n",
      "\n"
     ]
    }
   ],
   "source": [
    "for i in range(len(models)):\n",
    "    clf_mlp = MLPClassifier(solver='adam', alpha=1e-5,\n",
    "                    hidden_layer_sizes=(5, 2), random_state=1)\n",
    "    clf_mlp.fit(models[i][\"X\"],models[i][\"Y\"])\n",
    "    print(\"A acurácia do modelo {} foi de: {}\".format(models[i][\"name\"],clf_mlp.score(models[i][\"X_test\"],models[i][\"Y_test\"])))\n",
    "    if (i < 2):\n",
    "        tn, fp, fn, tp = confusion_matrix(models[i][\"Y_test\"], clf_mlp.predict(models[i][\"X_test\"])).ravel()\n",
    "        print(\"\\nO recall e: {}\".format(tp/(tp+fn)))\n",
    "        print(\"A precisao e: {}\".format(tp/(tp+fp)))\n",
    "    print(\"\\n ------------------------------------\\n\")"
   ]
  },
  {
   "cell_type": "markdown",
   "metadata": {},
   "source": [
    "## Modelos em Árvores\n",
    "\n",
    "### Modelos baseados em Gini vs Modelos baseados em Entropia\n",
    "\n",
    "Os algoritmos para construir árvores de regressão geralmente utilizam uma abordagem do tipo *top-down*, escolhendo a cada passo uma variável para separar os dados em novos subconjuntos e por fim em classes. Diferentes algoritmos utilizam diferentes métricas para definir qual é a melhor variável para dividir os dados em um novo subcojunto e são exatamente essas métricas que desejamos explorar nessa secção. \n",
    "\n",
    "Iremos testar dois tipos de modelo de árvore de regressão, baseadas na métrica de Gini e na métrica de Entropia. Dessa forma, vamos explicar brevemente como é calculada cada uma dessas medidas e quais são suas principais diferencças.\n",
    "\n",
    "#### Gini Impurity\n",
    "\n",
    "$$\\mathit{Gini}(E) = 1 - \\sum_{j=1}^{c}p_j^2$$\n",
    "\n",
    "Esse é um índice muito utilizado na área de economia, principalmente para avaliar a desigualdade social de um país. Ele basicamente avalia a quantidade de valores que foi classificado de maneira correta em cada classe em cada umas das possibilidades de divisão dispoíveis. Feito isso ele calcula o índice para cada uma das novas subdivisões e pondera pelo número de elementos que foi atribuído a cada uma delas.\n",
    "\n",
    "![](imagens/m-gini.png)\n",
    "\n",
    "#### Função de ganho de informação\n",
    "\n",
    "\n",
    "Essa medida se baseia no conceito de **entropia** de Teoria a Informação. A implementação de árvore utilizando essa métrica é tão conhecida que recebeu um nome próprio, C.45. Para cada nó da árvore o valor de informação representa ¨a quantidade esperada de informação que seria necessária para classificar qualquer novo dado como *sim* ou *não*, dado que esse dado chegou até o nó atual na árvore¨. Basicamente, queremos dividir nossa árvore até que essa quantidade de informação seja zero.\n",
    "\n",
    "Nossa função de entropia é:\n",
    "\n",
    "$$\\textit{Entropy}: H(E) = -\\sum_{j=1}^{c}p_j\\log p_j$$\n",
    "\n",
    "E a função de ganho de informação é dada por:\n",
    "\n",
    "$$IG(E,a) = H(E) - H(E|a)$$\n",
    "\n",
    "Dados esses esclarecimentos, vamos testar os dois modelos que se utilizam desse conceito: Florestas Aleatórias e Árvores de Decisão."
   ]
  },
  {
   "cell_type": "markdown",
   "metadata": {},
   "source": [
    "## Random Forest"
   ]
  },
  {
   "cell_type": "markdown",
   "metadata": {},
   "source": [
    "O modelo de Florestas aleatórias nada mais é do que um conjunto de Árvores de Regressão criadas com a escolha dos parâmetros de divisão feita de maneira aleatória e que em conjunto votam para a criação de uma ¨arvore final¨ de decisão.\n",
    "\n",
    "Este é um dos modelos mais usados na área de Machine Learning na atualidade e em grande parte dos casos o que obtém o melhor custo benefício entre resultado/tempo e poder computacional despendido.\n",
    "\n",
    "\n",
    "![](imagens/random-forest.png?raw=true)"
   ]
  },
  {
   "cell_type": "code",
   "execution_count": 15,
   "metadata": {},
   "outputs": [],
   "source": [
    "from sklearn.ensemble import RandomForestClassifier\n",
    "rd_array = []\n",
    "for i in range(len(models)):\n",
    "    randomForest = RandomForestClassifier(criterion  = \"entropy\")\n",
    "    rd_array.append(randomForest.fit(models[i][\"X\"],models[i][\"Y\"]))"
   ]
  },
  {
   "cell_type": "code",
   "execution_count": 16,
   "metadata": {
    "scrolled": true
   },
   "outputs": [
    {
     "name": "stdout",
     "output_type": "stream",
     "text": [
      "As 5 features mais relevantes para o modelo Binario com duplicatas foram: \n",
      "\n",
      "service, com influência: 0.172331447961\n",
      "dst_bytes, com influência: 0.164565439485\n",
      "src_bytes, com influência: 0.1143402556\n",
      "count, com influência: 0.107283294633\n",
      "dst_host_count, com influência: 0.0713520182712\n",
      "\n",
      "A acurácia do modelo foi de: 0.9814969617078738 \n",
      "\n",
      "O recall e: 0.988765387833154\n",
      "A precisao e: 0.988312593330015\n",
      "\n",
      " ------------------------------------\n",
      "\n",
      "As 5 features mais relevantes para o modelo Binario sem duplicatas foram: \n",
      "\n",
      "src_bytes, com influência: 0.168073524775\n",
      "dst_host_srv_count, com influência: 0.123337023799\n",
      "diff_srv_rate, com influência: 0.1088813828\n",
      "dst_bytes, com influência: 0.0763506723039\n",
      "count, com influência: 0.0639773784241\n",
      "\n",
      "A acurácia do modelo foi de: 0.9952778316838088 \n",
      "\n",
      "O recall e: 0.9936539746158984\n",
      "A precisao e: 0.9941520467836257\n",
      "\n",
      " ------------------------------------\n",
      "\n",
      "As 5 features mais relevantes para o modelo Nao binario com duplicatas foram: \n",
      "\n",
      "srv_count, com influência: 0.145053343837\n",
      "service, com influência: 0.14061281776\n",
      "dst_host_diff_srv_rate, com influência: 0.112668881085\n",
      "protocol_type, com influência: 0.102248198218\n",
      "dst_host_same_srv_rate, com influência: 0.0858226881363\n",
      "\n",
      "A acurácia do modelo foi de: 0.9810307687361348 \n",
      "\n",
      "As 5 features mais relevantes para o modelo Nao binario sem duplicatas foram: \n",
      "\n",
      "diff_srv_rate, com influência: 0.170478624776\n",
      "src_bytes, com influência: 0.0929984409579\n",
      "service, com influência: 0.0882242406566\n",
      "flag, com influência: 0.0682244260736\n",
      "same_srv_rate, com influência: 0.0667533695687\n",
      "\n",
      "A acurácia do modelo foi de: 0.9935959635163982 \n",
      "\n"
     ]
    }
   ],
   "source": [
    "# import matplotlib.pyplot as plt\n",
    "for j in range(len(models)):\n",
    "    featuresImportance = {}\n",
    "    for i in range(len(df.columns[:len(df.columns)-1])):\n",
    "        featuresImportance[df.columns[:len(df.columns)-1][i]] = rd_array[j].feature_importances_[i]\n",
    "\n",
    "    s = [(k, featuresImportance[k]) for k in sorted(featuresImportance, key=featuresImportance.get, reverse=True)]\n",
    "\n",
    "    print(\"As 5 features mais relevantes para o modelo %s foram: \\n\"% (models[j][\"name\"])) \n",
    "    for i in range (5):\n",
    "        print(\"%s, com influência: %s\" % (s[i][0],s[i][1]))\n",
    "\n",
    "    print(\"\\nA acurácia do modelo foi de: {} \\n\".format(rd_array[j].score(models[j][\"X_test\"], models[j][\"Y_test\"])))\n",
    "    if(j <= 1):\n",
    "        tn, fp, fn, tp = confusion_matrix(models[j][\"Y_test\"], rd_array[j].predict(models[j][\"X_test\"])).ravel()\n",
    "        print(\"O recall e: {}\".format(tp/(tp+fn)))\n",
    "        print(\"A precisao e: {}\".format(tp/(tp+fp)))\n",
    "        print(\"\\n ------------------------------------\\n\")\n",
    "    "
   ]
  },
  {
   "cell_type": "markdown",
   "metadata": {},
   "source": [
    "Nesse caso, os resultados utilizando as métricas de Gini e Entropia foram praticamente idênticos, dessa forma decidimos omitir os resutados obtidos por Gini de modo a não poluir esse relatório *(para visualizá-los para ir no bloco 15 e mudar de **entropy** para **gini**)*.\n",
    "\n",
    "Em primeiro lugar, podemos perceber que a acurácia foi bastante elevada em todos os casos e acabou subindo no modelo sem duplicatas, provavelmente pela redução de *overfitting* em algum nível. Como a acurácia resultou em um valor extremamente preciso, recorremos ao Recall e a Precisão para verificar se nossos resultados eram válidos. Ambos os indicadores sinalizaram de maneira positiva.\n",
    "\n",
    "Podemos notar também que, apesar de variações na ordem, algumas variáveis se mostraram importantes para a divisão em todos os casos, sendo as com mais destaque **service**, **flag** e **src_bytes**. Isso vai ao encontro com o que havíamos encontrado na análise exploratória, que mostrava que os ataques mais comuns nessa rede eram SYN Flood e Smurf."
   ]
  },
  {
   "cell_type": "markdown",
   "metadata": {},
   "source": [
    "## Árvores de Decisão"
   ]
  },
  {
   "cell_type": "markdown",
   "metadata": {},
   "source": [
    "As árvores de decisão são um tipo de modelagem estatística que recebe como entrada um conjunto de dados já classificados e, a partir dos dados de entrada, classifica dados de acordo com os padrões aprendidos. \n",
    "O algoritmo utilizado no modelo é o CART (Classification And Regression Tree), que é bastante similar ao C.45 mencionado anteriormente, mas com suporte a variáveis numéricas."
   ]
  },
  {
   "cell_type": "markdown",
   "metadata": {},
   "source": [
    "### Gini"
   ]
  },
  {
   "cell_type": "code",
   "execution_count": 20,
   "metadata": {},
   "outputs": [
    {
     "name": "stdout",
     "output_type": "stream",
     "text": [
      "A acurácia do modelo Binario com duplicatas foi de: 0.9589428672475324\n",
      "\n",
      "O recall e: 0.9507190948567786\n",
      "A precisao e: 0.9983266398929049\n",
      "\n",
      " ------------------------------------\n",
      "\n",
      "A acurácia do modelo Binario sem duplicatas foi de: 0.9877094249304612\n",
      "\n",
      "O recall e: 0.9911489645958583\n",
      "A precisao e: 0.977437417654809\n",
      "\n",
      " ------------------------------------\n",
      "\n",
      "A acurácia do modelo Nao binario com duplicatas foi de: 0.9470629842780439\n",
      "\n",
      " ------------------------------------\n",
      "\n",
      "A acurácia do modelo Nao binario sem duplicatas foi de: 0.9605407853030598\n",
      "\n",
      " ------------------------------------\n",
      "\n"
     ]
    }
   ],
   "source": [
    "names = col_names[:len(col_names)-1]\n",
    "\n",
    "for i in range(len(models)):\n",
    "    clf_gini = DecisionTreeClassifier(criterion = \"gini\", random_state = 100, max_depth=5, min_samples_leaf=5)\n",
    "    clf_gini.fit(models[i][\"X\"],models[i][\"Y\"])\n",
    "    tree.export_graphviz(clf_gini, out_file='imagens/tree_gini_{}.dot'.format(models[i][\"slug\"]),feature_names = names,class_names = df.label.unique(),filled = True)\n",
    "    success = os.system(\"dot -Tpng imagens/tree_gini_{}.dot -o imagens/tree_gini_{}.png\".format(models[i][\"slug\"], models[i][\"slug\"]))\n",
    "    print(\"A acurácia do modelo {} foi de: {}\".format(models[i][\"name\"],clf_gini.score(models[i][\"X_test\"],models[i][\"Y_test\"])))\n",
    "    if (i < 2):\n",
    "        tn, fp, fn, tp = confusion_matrix(models[i][\"Y_test\"], clf_gini.predict(models[i][\"X_test\"])).ravel()\n",
    "        print(\"\\nO recall e: {}\".format(tp/(tp+fn)))\n",
    "        print(\"A precisao e: {}\".format(tp/(tp+fp)))\n",
    "    print(\"\\n ------------------------------------\\n\")"
   ]
  },
  {
   "cell_type": "markdown",
   "metadata": {},
   "source": [
    "### Entropia"
   ]
  },
  {
   "cell_type": "code",
   "execution_count": 21,
   "metadata": {},
   "outputs": [
    {
     "name": "stdout",
     "output_type": "stream",
     "text": [
      "A acurácia do modelo Binario com duplicatas foi de: 0.959232228402405\n",
      "\n",
      "O recall e: 0.9507589339070156\n",
      "A precisao e: 0.9986609197807256\n",
      "\n",
      " ------------------------------------\n",
      "\n",
      "A acurácia do modelo Binario sem duplicatas foi de: 0.9869978653211722\n",
      "\n",
      "O recall e: 0.9854709418837675\n",
      "A precisao e: 0.9810473815461347\n",
      "\n",
      " ------------------------------------\n",
      "\n",
      "A acurácia do modelo Nao binario com duplicatas foi de: 0.956949490402855\n",
      "\n",
      " ------------------------------------\n",
      "\n",
      "A acurácia do modelo Nao binario sem duplicatas foi de: 0.966621385600621\n",
      "\n",
      " ------------------------------------\n",
      "\n"
     ]
    }
   ],
   "source": [
    "for i in range(len(models)):\n",
    "    clf_entropy = DecisionTreeClassifier(criterion = \"entropy\", random_state = 100,max_depth=5, min_samples_leaf=5)\n",
    "    clf_entropy.fit(models[i][\"X\"],models[i][\"Y\"])\n",
    "    tree.export_graphviz(clf_entropy, out_file='imagens/tree_entropy_{}.dot'.format(models[i][\"slug\"]),feature_names = names,class_names = df.label.unique(),filled = True)\n",
    "    success = os.system(\"dot -Tpng imagens/tree_entropy_{}.dot -o imagens/tree_entropy_{}.png\".format(models[i][\"slug\"], models[i][\"slug\"]))\n",
    "    print(\"A acurácia do modelo {} foi de: {}\".format(models[i][\"name\"],clf_entropy.score(models[i][\"X_test\"],models[i][\"Y_test\"])))\n",
    "    if (i < 2):\n",
    "        tn, fp, fn, tp = confusion_matrix(models[i][\"Y_test\"], clf_entropy.predict(models[i][\"X_test\"])).ravel()\n",
    "        print(\"\\nO recall e: {}\".format(tp/(tp+fn)))\n",
    "        print(\"A precisao e: {}\".format(tp/(tp+fp)))\n",
    "    print(\"\\n ------------------------------------\\n\")"
   ]
  },
  {
   "cell_type": "markdown",
   "metadata": {},
   "source": [
    "### Árvores de decisão usando o critério Gini\n",
    "#### Dataset com duplicatas e não binarizado\n",
    "![DecisionTree Gini](imagens/tree_gini_nb.png \"DecisionTree Gini com duplicatas e não binarizado\")\n",
    "#### Dataset sem duplicatas e não binarizado\n",
    "![DecisionTree Gini](imagens/tree_gini_nbnd.png \"DecisionTree Gini sem duplicatas e não binarizado\")\n",
    "#### Dataset com duplicatas e binarizado\n",
    "![DecisionTree Gini](imagens/tree_gini_b.png \"DecisionTree Gini com duplicatas e binarizado\")\n",
    "#### Dataset sem duplicatas e binarizado\n",
    "![DecisionTree Gini](imagens/tree_gini_bnd.png \"DecisionTree Gini sem duplicatas e binarizado\")\n",
    "### Árvore de decisão usando o critério Entropia\n",
    "#### Dataset com duplicatas e não binarizado\n",
    "![DecisionTree Entropy](imagens/tree_entropy_nb.png \"DecisionTree Entropy com duplicatas e não binarizado\")\n",
    "#### Dataset sem duplicatas e não binarizado\n",
    "![DecisionTree Entropy](imagens/tree_entropy_nbnd.png \"DecisionTree Entropy sem duplicatas e não binarizado\")\n",
    "#### Dataset com duplicatas e binarizado\n",
    "![DecisionTree Entropy](imagens/tree_entropy_b.png \"DecisionTree Entropy com duplicatas e binarizado\")\n",
    "#### Dataset sem duplicatas e binarizado\n",
    "![DecisionTree Entropy](imagens/tree_entropy_bnd.png \"DecisionTree Entropy sem duplicatas e binarizado\")"
   ]
  },
  {
   "cell_type": "markdown",
   "metadata": {},
   "source": [
    "### Análise das Árvores de Decisão do dataset sem duplicatas e não binarizado\n",
    "\n",
    "*(Para uma melhor visualização das árvores acesse a pasta ¨imagens¨ desse repositório)*\n",
    "\n",
    "Vamos adotar analisar cada uma das árvores separadamente e depois atribuir um parecer sobre suas diferenças e semelhanças. Começaremos pela árvore que utiliza pela métrica de Gini, para logo após analisar a árvore de regressão que utiliza como métrica a função de ganho.\n",
    "\n",
    "#### Análise da árvore de decisão usando Gini\n",
    "\n",
    "O primeiro ponto importante a se notar é a raíz dessa árvore. Nesse caso, temos que a variável utilizada para maximizar a subdivisão em dois novos grupos é a variável **flag**, que indica o status de erro identificado na conexão. Essa variável foi transformada de string para numérica para aplicarmos os modelos, a relação atribuída foi:\n",
    "\n",
    "{'OTH': 10,'REJ': 3,'RSTO': 5,'RSTOS0': 8,'RSTR': 1,'S0': 6,'S1': 2,'S2': 7,'S3': 4,'SF': 0,'SH': 9}\n",
    "\n",
    "Ainda, o significado de cada um desses status é:\n",
    "\n",
    "![](imagens/flags.png?raw=true)\n",
    "\n",
    "Ou seja, ao separar os novos grupos de acordo com uma divisão por valores de flags menores iguais a 2.5 o que o algoritmo está fazendo é tentando separar as conexões que foram estabelecidas e terminadas normalmente das demais. A classe que foi atribuída foi a **udpstorm**, uma classe que possui somente duas apariçoẽs no dataset, portanto não conseguimos compreender o motivo dela ter sido a escolhida. Nossa expectativa era que a classificação da raíz fosse ¨normal¨, pois é a classificação que mais aparece.\n",
    "\n",
    "Algumas comparações interessantes com o que estudamos na matéria podem ser vistas, por exemplo, na ramificação que divide entre as classificações de **¨buffer_overflow¨ e ¨mscan¨**. Enquanto o buffer overflow é um ataque que explora o fato de quando o buffer estar cheio as informações irem para a pilha e se aproveita para manipular essas informações, o mscan funciona de forma semelhante a um port scan, no sentido de procurar máquinas com vulnerabilidades para um possível futuro ataque. É interessante notar que a variável escolhida para dividir os dados entre esses dois dados foi a **srv_diff_host_rate**, que siginifica a percentagem de conexões feitas para o mesmo serviço e hosts diferentes. Se essa porcentagem for menor que 0.35 classificamos como ¨mscan¨, que pode ser devido ao fato do mscan ter essa porcentagem por natureza menor em consequência a ele ¨testar¨ diversos serviços distintos para avaliar possíveis vulnerabilidades.\n",
    "\n",
    "Outro aspecto interessante da árvore que podemos traçar um paralelo com o conteúdo visto em aula é a divisão dos dados entre as categorias **¨smurf¨ e ¨ftpwrite¨**. Ao passo que o smurf é um ataque de DDoS o FTP Write se dá pelo aproveitamento por parte do atacante de uma configuração errada de FTP *(permitindo que ele adicione e remova novos arquivos)*. De acordo com a árvore de decisão, se é identificado em um elemento que estava sendo classificado como ataque Smurf que ele possui **duração de conexão** maior que 279 segundos ele passa a ser classificado como ataque FTP Write. Imaginamos que isso pode ser devido ao fato que um atacante que faz FTP Write pode precisar de mais tempo para, por exemplo, fazer upload de um arquivo malicioso e o configurar na máquina infectada.\n",
    "\n",
    "#### Análise da árvore de decisão usando entropia\n",
    "\n",
    "A árvore de decisão utilizando entropia foi em diversos aspectos parecida com a árvore gerada quando utilizamos a métrica de Gini. Contudo, uma diferença que ficou clara foi que, utilizando a mesma profundidade de árvore, ela acabou conseguindo classificar ataques diferentes. Por exemplo, os tipos de ataque ¨back¨ e ¨xterm¨ só aparecem na árvore criada por Entropia, enquanto os ataques ¨Saint¨ e ¨nmap¨ só aparecem usando Gini.\n",
    "\n",
    "Podemos ter um insight interessante ao analisar o nó que divide ataques do tipo ¨apache2¨ e ¨buffer overflow¨ nessa árvore. Enquanto o apache2 configura um ataque de negação se serviço contra um server web ataque o buffer overflow, como já explicado, se aproveita da manipulação dos dados que cairam em overflow e foram para a stack. O interessante é notar que a variável que dividiu esses dois grupos foi a **¨same_srv_rate¨, que mede a porcentagem de conexões para o mesmo serviço**. O ataque apache2 tende a ter menos conexões para o mesmo serviço, uma vez que o buffer overflow precisa sempre se conectar ao mesmo serviço para agilizar que aconteça overflow.\n",
    "\n",
    "### Comparação entre as árvores com e sem duplicatas\n",
    "A fim de analisar a influência que os registros duplicados tem no classificador, refizemos a árvore com o dataset sem duplicatas.\n",
    "\n",
    "Analisando a árvore gerada com o critério de entropia, podemos perceber que o número de ataques diferentes que o modelo consegue classificar diminui bastante usando o dataset com dados duplicados, sendo **15 tipos diferentes no dataset sem duplicatas contra 9 no dataset com duplicatas**. Além disso a acurácia do modelo sem duplicatas também é maior que a do modelo com duplicatas. Isso mostra que os dados duplicados realmente enviesam o classificador para os registros com maior frequência, e com isso diminui a acurácia do modelo.\n",
    "\n",
    "Outro ponto é perceber que na árvore com duplicatas o nó raiz é a feature protocol_type, que foi mapeada da seguinte forma:\n",
    "{'icmp': 2, 'tcp': 1, 'udp': 0}\n",
    "No classificador, todo tráfego TCP e UDP foi para um ramo da árvore e o ICMP foi para o outro ramo, o que faz algum sentido de acordo com o uso de cada protocolo nas aplicações existentes hoje."
   ]
  },
  {
   "cell_type": "markdown",
   "metadata": {},
   "source": [
    "## Referências\n",
    " \n",
    "[1] Dataset: http://kdd.ics.uci.edu/databases/kddcup99/kddcup99.html\n",
    " \n",
    "[2] GIRMA, Anteneh; GARUBA, Mosses; GOEL, Rajini. Advanced Machine Language Approach to Detect DDoS Attack Using DBSCAN Clustering Technology with Entropy. In: Information Technology-New Generations. Springer, Cham, 2018. p. 125-131.\n",
    " \n",
    "[3] LI, Qingru et al. An Intrusion Detection System Based on Polynomial Feature Correlation Analysis. In: Trustcom/BigDataSE/ICESS, 2017 IEEE. IEEE, 2017. p. 978-983.\n",
    " \n",
    "[4]  TAVALLAEE, Mahbod et al. A detailed analysis of the KDD CUP 99 data set. In: Computational Intelligence for Security and Defense Applications, 2009. CISDA 2009. IEEE Symposium on. IEEE, 2009. p. 1-6.\n",
    " \n",
    "[5] Lincoln Laboratory - https://www.ll.mit.edu/ideval/docs/attackDB.html\n",
    " \n",
    "[6] http://shodhganga.inflibnet.ac.in/bitstream/10603/9850/8/08_chapter%203.pdf\n",
    "\n",
    "[7] http://scikit-learn.org/stable/modules/tree.html#"
   ]
  }
 ],
 "metadata": {
  "anaconda-cloud": {},
  "kernelspec": {
   "display_name": "Python 3",
   "language": "python",
   "name": "python3"
  },
  "language_info": {
   "codemirror_mode": {
    "name": "ipython",
    "version": 3
   },
   "file_extension": ".py",
   "mimetype": "text/x-python",
   "name": "python",
   "nbconvert_exporter": "python",
   "pygments_lexer": "ipython3",
   "version": "3.4.2"
  }
 },
 "nbformat": 4,
 "nbformat_minor": 2
}
