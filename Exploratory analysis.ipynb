{
 "cells": [
  {
   "cell_type": "code",
   "execution_count": null,
   "metadata": {},
   "outputs": [],
   "source": [
    "# Importing libraries\n",
    "%matplotlib inline\n",
    "import numpy                   as np\n",
    "import pandas                  as pd\n",
    "import matplotlib              as pl\n",
    "import seaborn                 as sns\n",
    "from  sklearn.model_selection  import train_test_split\n",
    "from  sklearn.tree             import DecisionTreeClassifier\n",
    "from sklearn.neural_network    import MLPClassifier\n",
    "from  sklearn.metrics          import accuracy_score\n",
    "from  sklearn                  import tree"
   ]
  },
  {
   "cell_type": "markdown",
   "metadata": {},
   "source": [
    "# Análise Exploratória"
   ]
  },
  {
   "cell_type": "markdown",
   "metadata": {},
   "source": [
    "Vamos começar lendo o conjunto de dados e definindo o nome correto para suas colunas. Além disso, vamos criar dois conjuntos de dado ¨de apoio¨, um contendo apenas variáveis discretas/categóricas e outro com as variáveis contínuas."
   ]
  },
  {
   "cell_type": "code",
   "execution_count": null,
   "metadata": {},
   "outputs": [],
   "source": [
    "## Reading .csv files\n",
    "df = pd.read_csv(\"data/corrected.csv\",sep=',',header=None)\n",
    "\n",
    "## Defining columns\n",
    "col_names  = pd.read_csv(\"data/column_names.csv\",sep=',',header=None)[0].values\n",
    "df.columns = col_names\n",
    "\n",
    "\n",
    "## Identifying columns as categorical or not\n",
    "categorical_columns = [\"protocol_type\",\"service\",\"flag\",\"land\",\"logged_in\",\"root_shell\",\"su_attempted\",\n",
    "                       \"is_host_login\",\"is_guest_login\",\"label\"]\n",
    "df_categorical      = df[categorical_columns]\n",
    "df_non_categorical  = df.drop(categorical_columns, axis=1)"
   ]
  },
  {
   "cell_type": "code",
   "execution_count": null,
   "metadata": {
    "scrolled": true
   },
   "outputs": [],
   "source": [
    "## A glance at the non categorical data\n",
    "df_non_categorical.describe()"
   ]
  },
  {
   "cell_type": "markdown",
   "metadata": {},
   "source": [
    "## Análise de variáveis discretas\n",
    "\n",
    "\n",
    "### Relação entre Ataques e Serviços de Rede\n",
    "\n",
    "Vamos começar analisando a relação entre o serviço de rede utilizado pelo destino dos pacotes e os ataques identificados. Para tal, vamos plotar um gráfico de barras que mostra o percentual de participação de cada serviço de rede em cada ataque.\n",
    "\n",
    "**De modo a facilitar a visualização, vamos considerar apenas variáveis que representem ao menos 1% do percentual total de ataques ou tipos de serviço de rede.**\n",
    "\n"
   ]
  },
  {
   "cell_type": "code",
   "execution_count": null,
   "metadata": {
    "scrolled": false
   },
   "outputs": [],
   "source": [
    "## Create a subset of main dataset (f_data) that contains only services and labels that represents at\n",
    "## least 1% of the total cases\n",
    "\n",
    "f_services = pd.crosstab(index=df[\"service\"],columns=\"count\")\n",
    "f_services = f_services/len(df)\n",
    "f_services = f_services[f_services[\"count\"] > 0.01]\n",
    "\n",
    "f_attacks = pd.crosstab(index=df[\"label\"],columns=\"count\")\n",
    "f_attacks = f_attacks/len(df)\n",
    "f_attacks = f_attacks[f_attacks[\"count\"] > 0.01]\n",
    "\n",
    "f_data = df[df['service'].isin(list(f_services.index))]\n",
    "f_data = f_data[f_data['label'].isin(list(f_attacks.index))]\n",
    "\n",
    "## Create the plot\n",
    "\n",
    "attack_data = pd.crosstab(index = f_data[\"label\"], columns=f_data[\"service\"])\n",
    "frequency_table_attack = (attack_data/attack_data.sum())\n",
    "\n",
    "frequency_table_attack.plot(kind=\"bar\", \n",
    "                 figsize=(8,8),\n",
    "                 stacked=True);"
   ]
  },
  {
   "cell_type": "markdown",
   "metadata": {},
   "source": [
    "### Relação entre Ataques e Tipos de Protocolo\n",
    "\n",
    "Utilizando a mesma abordagem anterior, iremos avaliar o percentual de participcação de cada protocolo de rede em cada tipo de ataque.\n",
    "\n",
    "O objetivo desse análise é visualziar se existe alguma característica que foge do conhecido pela literatura."
   ]
  },
  {
   "cell_type": "code",
   "execution_count": null,
   "metadata": {
    "scrolled": false
   },
   "outputs": [],
   "source": [
    "## Create a subset of main dataset (f_data) that contains only protocols and labels that represents at\n",
    "## least 1% of the total cases\n",
    "\n",
    "f_protocol = pd.crosstab(index=df[\"protocol_type\"],columns=\"count\")\n",
    "f_protocol = f_protocol/len(df)\n",
    "f_protocol = f_protocol[f_protocol[\"count\"] > 0.01]\n",
    "\n",
    "f_data = df[df['protocol_type'].isin(list(f_protocol.index))]\n",
    "f_data = f_data[f_data['label'].isin(list(f_attacks.index))]\n",
    "\n",
    "## Create a Two-Way Table\n",
    "\n",
    "relationship_protocoal_attack = pd.crosstab(index=f_data[\"label\"], \n",
    "                          columns=f_data[\"protocol_type\"])\n",
    "## Plot the Two-Way Table\n",
    "relationship_protocoal_attack.plot(kind=\"bar\", \n",
    "                 figsize=(8,8),\n",
    "                 stacked=True);"
   ]
  },
  {
   "cell_type": "markdown",
   "metadata": {},
   "source": [
    "### Participação percentual de cada tipo de protocolo de rede\n",
    "\n",
    "O gráfico abaixo visa dar uma visão geral da participação de cada tipo de protocolo na rede na qual os dados foram coletados."
   ]
  },
  {
   "cell_type": "code",
   "execution_count": null,
   "metadata": {},
   "outputs": [],
   "source": [
    "## Create a cross tab dataframe\n",
    "protocol_data = pd.crosstab(index = df[\"protocol_type\"],columns=\"Protocol type\")\n",
    "frequency_table_protocol = (protocol_data/protocol_data.sum())\n",
    "\n",
    "## Plot the dataframe\n",
    "frequency_table_protocol.plot.bar();"
   ]
  },
  {
   "cell_type": "markdown",
   "metadata": {},
   "source": [
    "## Análise de variáveis contínuas\n",
    "\n",
    "### Histogramas"
   ]
  },
  {
   "cell_type": "code",
   "execution_count": null,
   "metadata": {},
   "outputs": [],
   "source": [
    "df_non_categorical.hist(figsize = (34,40));"
   ]
  },
  {
   "cell_type": "markdown",
   "metadata": {},
   "source": [
    "### Análise dos usuários logados no sistema\n",
    "\n",
    "Julgamos interessante avalair o padrão de comportamento dos usuários que de alguma forma estão logados na rede. Dessa forma, iremos criar gráficos que analisam se alguma ameaça foi detectada para os seguintes tipos de usuários: usuários simplesmente logados, usuários logados como host, usuários logados como convidados."
   ]
  },
  {
   "cell_type": "code",
   "execution_count": null,
   "metadata": {
    "scrolled": true
   },
   "outputs": [],
   "source": [
    "df_temp = df[[\"is_guest_login\",\"label\"]]\n",
    "df_temp = df_temp.loc[df_temp['is_guest_login'] == 1]\n",
    "df_temp.groupby([\"label\"]).count().plot(kind='bar', title =\"Número de registros\", figsize=(10, 5), legend=True, fontsize=12)"
   ]
  },
  {
   "cell_type": "markdown",
   "metadata": {},
   "source": [
    "# Análise de dados redundantes\n",
    "\n",
    "De acordo com Tavallaee (2009), o grande número de registros redundantes pode enviesar os classificadores para os registros mais frequentes. Desssa forma, o autor propõe um novo dataset, removendo as duplicatas. Dessa forma, analisaremos o dataset KDD99 completo e o sem as duplicatas. Para tal analisaremos a razão entre os dados únicos e os duplicados e plotaremos os gráficos de relação entre os ataques e serviços, e entre os ataques e protocolos utilizados."
   ]
  },
  {
   "cell_type": "code",
   "execution_count": 54,
   "metadata": {},
   "outputs": [
    {
     "data": {
      "text/plain": [
       "<matplotlib.axes._subplots.AxesSubplot at 0x7f2fddd566a0>"
      ]
     },
     "execution_count": 54,
     "metadata": {},
     "output_type": "execute_result"
    },
    {
     "data": {
      "image/png": "iVBORw0KGgoAAAANSUhEUgAAAmEAAAGVCAYAAAC2HibZAAAABHNCSVQICAgIfAhkiAAAAAlwSFlz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\nTkSuQmCC\n",
      "text/plain": [
       "<matplotlib.figure.Figure at 0x7f2fde1176d8>"
      ]
     },
     "metadata": {},
     "output_type": "display_data"
    }
   ],
   "source": [
    "df_temp = df[[\"is_host_login\",\"label\"]]\n",
    "df_temp = df_temp.loc[df_temp[\"is_host_login\"] == 1]\n",
    "df_temp.groupby([\"label\"]).count().plot(kind='bar', title =\"Número de registros\", figsize=(10, 5), legend=True, fontsize=12)"
   ]
  },
  {
   "cell_type": "markdown",
   "metadata": {},
   "source": [
    "\n",
    "## Análise de dados redundantes\n",
    "\n",
    "De acordo com Tavallaee (2009), o grande número de registros redundantes pode enviesar os classificadores para os registros mais frequentes. Desssa forma, o autor propõe um novo dataset, removendo as duplicatas. Dessa forma, analisaremos o dataset KDD99 completo e o sem as duplicatas. Para tal analisaremos a razão entre os dados únicos e os duplicados e plotaremos os gráficos de relação entre os ataques e serviços, e entre os ataques e protocolos utilizados."
   ]
  },
  {
   "cell_type": "code",
   "execution_count": 110,
   "metadata": {},
   "outputs": [
    {
     "name": "stdout",
     "output_type": "stream",
     "text": [
      "O dataset sem duplicatas é 75.14990563580888% menor que o dataset original\n"
     ]
    }
   ],
   "source": [
    "df2 = df.drop_duplicates()\n",
    "percentage = 1 - float(df2.shape[0])/float(df.shape[0])\n",
    "print(\"O dataset sem duplicatas é {}% menor que o dataset original\".format(percentage * 100))"
   ]
  },
  {
   "cell_type": "markdown",
   "metadata": {},
   "source": [
    "# Modelos de classificação"
   ]
  },
  {
   "cell_type": "markdown",
   "metadata": {},
   "source": [
    "Antes de executar nossos modelos, vamos realizar algumas modificações em nosso conjunto de dados. São elas:\n",
    "\n",
    "- Transformar categorias que são strings em categorias numéricas \n",
    "- Atribuir uma categoria binária de ataque ou não ataque para cada um dos resgitros\n",
    "- Criar um conjunto de dados para treino e outro para teste e validação dos modelos, usando a proporção (0.8/02)"
   ]
  },
  {
   "cell_type": "code",
   "execution_count": 3,
   "metadata": {
    "collapsed": true
   },
   "outputs": [],
   "source": [
    "# Mapping strings categories to int\n",
    "\n",
    "df_binary = df.copy()\n",
    "df_binary.loc[df_binary.label != 'normal.','label']= 1\n",
    "df_binary.loc[df_binary.label == 'normal.','label']= 0\n",
    "\n",
    "c1 = df_binary.protocol_type.unique()\n",
    "c2 = df_binary.service.unique()\n",
    "c3 = df_binary.flag.unique()\n",
    "\n",
    "d_protocol = {}\n",
    "d_service = {}\n",
    "d_wtver = {}\n",
    "\n",
    "for i in range(len(c1)):\n",
    "    d_protocol[c1[i]] = i\n",
    "\n",
    "for i in range(len(c2)):\n",
    "    d_service[c2[i]] = i\n",
    "    \n",
    "for i in range(len(c3)):\n",
    "    d_wtver[c3[i]] = i\n",
    "\n",
    "for i in d_protocol:\n",
    "    df_binary = df_binary.replace(i, d_protocol[i])\n",
    "for i in d_service:\n",
    "    df_binary = df_binary.replace(i, d_service[i])\n",
    "for i in d_wtver:\n",
    "    df_binary = df_binary.replace(i, d_wtver[i])\n",
    "    \n",
    "\n",
    "import random\n",
    "random.seed(1610)\n",
    "\n",
    "## Split the data in train and test datasets\n",
    "\n",
    "train = df_binary.sample(frac = 0.8,random_state=200)\n",
    "test  = df_binary.drop(train.index)\n",
    "\n",
    "X = train.copy()\n",
    "Y = pd.factorize(X['label'])[0]\n",
    "X = X.drop('label', 1)\n",
    "\n",
    "\n",
    "testInput =  test.copy()\n",
    "correct = pd.factorize(testInput['label'])[0]\n",
    "testInput = testInput.drop('label', 1)"
   ]
  },
  {
   "cell_type": "markdown",
   "metadata": {},
   "source": [
    "## Árvore de regressão"
   ]
  },
  {
   "cell_type": "code",
   "execution_count": 9,
   "metadata": {},
   "outputs": [],
   "source": [
    "from sklearn import tree\n",
    "\n",
    "clf = tree.DecisionTreeClassifier()\n",
    "clf = clf.fit(df.iloc[:,:41], df[41])\n",
    "p = clf.predict(df.iloc[:,:41])"
   ]
  },
  {
   "cell_type": "markdown",
   "metadata": {},
   "source": [
    "## Random Forest"
   ]
  },
  {
   "cell_type": "code",
   "execution_count": 4,
   "metadata": {},
   "outputs": [
    {
     "data": {
      "text/plain": [
       "RandomForestClassifier(bootstrap=True, class_weight=None, criterion='gini',\n",
       "            max_depth=None, max_features='auto', max_leaf_nodes=None,\n",
       "            min_impurity_decrease=0.0, min_impurity_split=None,\n",
       "            min_samples_leaf=1, min_samples_split=2,\n",
       "            min_weight_fraction_leaf=0.0, n_estimators=10, n_jobs=1,\n",
       "            oob_score=False, random_state=None, verbose=0,\n",
       "            warm_start=False)"
      ]
     },
     "execution_count": 4,
     "metadata": {},
     "output_type": "execute_result"
    }
   ],
   "source": [
    "from sklearn.ensemble import RandomForestClassifier\n",
    "randomForest = RandomForestClassifier()\n",
    "randomForest.fit(X,Y)"
   ]
  },
  {
   "cell_type": "code",
   "execution_count": 5,
   "metadata": {},
   "outputs": [
    {
     "name": "stdout",
     "output_type": "stream",
     "text": [
      "As 5 features mais relevantes para o modelo foram: \n",
      "\n",
      "count, com influência: 0.149870244364\n",
      "dst_host_srv_diff_host_rate, com influência: 0.123905336012\n",
      "dst_bytes, com influência: 0.100965593046\n",
      "protocol_type, com influência: 0.0837282082901\n",
      "src_bytes, com influência: 0.077448820012\n"
     ]
    },
    {
     "data": {
      "text/plain": [
       "0.019226441179307462"
      ]
     },
     "execution_count": 5,
     "metadata": {},
     "output_type": "execute_result"
    }
   ],
   "source": [
    "# import matplotlib.pyplot as plt\n",
    "\n",
    "featuresImportance = {}\n",
    "for i in range(len(df.columns[:len(df.columns)-1])):\n",
    "    featuresImportance[df.columns[:len(df.columns)-1][i]] = randomForest.feature_importances_[i]\n",
    "\n",
    "s = [(k, featuresImportance[k]) for k in sorted(featuresImportance, key=featuresImportance.get, reverse=True)]\n",
    "\n",
    "print(\"As 5 features mais relevantes para o modelo foram: \\n\")\n",
    "for i in range (5):\n",
    "    print(\"%s, com influência: %s\" % (s[i][0],s[i][1]))\n",
    "\n",
    "\n",
    "randomForest.score(testInput,correct)"
   ]
  },
  {
   "cell_type": "markdown",
   "metadata": {},
   "source": [
    "## Support Vector Machine"
   ]
  },
  {
   "cell_type": "code",
   "execution_count": null,
   "metadata": {},
   "outputs": [],
   "source": [
    "# Removing dupicates\n",
    "df_no_duplicates = df.drop_duplicates()\n",
    "percentage = 1 - float(df_no_duplicates[\"protocol_type\"].count())/float(df[\"protocol_type\"].count())\n",
    "print(\"O dataset sem duplicatas é {}% menor que o dataset original\".format(percentage * 100))"
   ]
  },
  {
   "cell_type": "code",
   "execution_count": null,
   "metadata": {},
   "outputs": [],
   "source": [
    "# Extract all strings from columns\n",
    "protocols = df[\"protocol_type\"].unique()\n",
    "services  = df[\"service\"].unique()\n",
    "flags     = df[\"flag\"].unique()\n",
    "\n",
    "# Mapping strings to int\n",
    "d_protocol = {}\n",
    "d_service  = {}\n",
    "d_flags    = {}\n",
    "for i in range(len(protocols)):\n",
    "    d_protocol[protocols[i]] = i\n",
    "\n",
    "for i in range(len(services)):\n",
    "    d_service[services[i]] = i\n",
    "    \n",
    "for i in range(len(flags)):\n",
    "    d_flags[flags[i]] = i\n",
    "\n",
    "# Replace strings in dataframe\n",
    "for i in d_protocol:\n",
    "    df = df.replace(i, d_protocol[i])\n",
    "print(\"Replaced protocols\")\n",
    "for i in d_service:\n",
    "    df = df.replace(i, d_service[i])\n",
    "print(\"Replaced services\")\n",
    "for i in d_flags:\n",
    "    df = df.replace(i, d_flags[i])\n",
    "print(\"Replaced flags\")"
   ]
  },
  {
   "cell_type": "code",
   "execution_count": null,
   "metadata": {},
   "outputs": [],
   "source": [
    "clf = DecisionTreeClassifier()\n",
    "#clf = clf.fit(df.iloc[:,:41], df[\"label\"])\n",
    "#p   = clf.predict(df.iloc[:,:41])\n",
    "cross_val_score(clf, df.iloc[:,:41], df[\"label\"], cv=10)"
   ]
  },
  {
   "cell_type": "code",
   "execution_count": null,
   "metadata": {
    "scrolled": false
   },
   "outputs": [],
   "source": [
    "from sklearn import svm\n",
    "SVM = svm.SVC()\n",
    "SVM.fit(X, Y)\n",
    "\n",
    "print(\"A acurácia do modelo foi de: \" % (SVM.score(testInput,correct))"
   ]
  },
  {
   "cell_type": "markdown",
   "metadata": {
    "collapsed": true
   },
   "source": [
    "## Naives Bayes"
   ]
  },
  {
   "cell_type": "code",
   "execution_count": 7,
   "metadata": {},
   "outputs": [
    {
     "data": {
      "text/plain": [
       "0.09650194514998553"
      ]
     },
     "execution_count": 7,
     "metadata": {},
     "output_type": "execute_result"
    }
   ],
   "source": [
    "from sklearn.naive_bayes import GaussianNB\n",
    "gnb = GaussianNB()\n",
    "gnb.fit(X,Y)\n",
    "print(\"A acurácia do modelo foi de: \" % (gnb.score(testInput,correct))"
   ]
   "source": [
    "success = 0\n",
    "fail    = 0\n",
    "for i in range(len(p)):\n",
    "    if (df[\"label\"][i] == p[i]):\n",
    "        success += 1\n",
    "    else:\n",
    "        fail += 1\n",
    "print (\"Sucess: {}\".format(success))\n",
    "print (\"Fail: {}\".format(fail))"
   ]
  },
  {
   "cell_type": "code",
   "execution_count": null,
   "metadata": {},
   "outputs": [],
   "source": [
    "df[\"label\"][1]"
   ]
  },
  {
   "cell_type": "code",
   "execution_count": null,
   "metadata": {},
   "outputs": [],
   "source": [
    "p[1]"
   ]
  },
  {
   "cell_type": "code",
   "execution_count": null,
   "metadata": {},
   "outputs": [],
   "source": [
    "X = df.values[:, :41]\n",
    "Y = df.values[:,41]"
   ]
  },
  {
   "cell_type": "code",
   "execution_count": null,
   "metadata": {},
   "outputs": [],
   "source": [
    "X_train, X_test, y_train, y_test = train_test_split( X, Y, test_size = 0.3, random_state = 100)"
   ]
  },
  {
   "cell_type": "code",
   "execution_count": null,
   "metadata": {},
   "outputs": [],
   "source": [
    "clf_gini = DecisionTreeClassifier(criterion = \"gini\", random_state = 100,\n",
    "                               max_depth=3, min_samples_leaf=5)\n",
    "clf_gini.fit(X_train, y_train)"
   ]
  },
  {
   "cell_type": "code",
   "execution_count": null,
   "metadata": {},
   "outputs": [],
   "source": [
    "clf_entropy = DecisionTreeClassifier(criterion = \"entropy\", random_state = 100,\n",
    " max_depth=3, min_samples_leaf=5)\n",
    "clf_entropy.fit(X_train, y_train)"
   ]
  },
  {
   "cell_type": "code",
   "execution_count": null,
   "metadata": {},
   "outputs": [],
   "source": [
    "y_pred_gini = clf_gini.predict(X_test)\n",
    "y_pred_gini"
   ]
  },
  {
   "cell_type": "code",
   "execution_count": null,
   "metadata": {},
   "outputs": [],
   "source": [
    "y_pred_en = clf_entropy.predict(X_test)\n",
    "y_pred_en"
   ]
  },
  {
   "cell_type": "code",
   "execution_count": null,
   "metadata": {},
   "outputs": [],
   "source": [
    "print (\"Accuracy using Gini Index is {}%\".format(accuracy_score(y_test,y_pred_gini)*100))\n",
    "print (\"Accuracy using Entropy is {}%\".format(accuracy_score(y_test,y_pred_en)*100))"
   ]
  },
  {
   "cell_type": "code",
   "execution_count": null,
   "metadata": {},
   "outputs": [],
   "source": []
  }
 ],
 "metadata": {
  "anaconda-cloud": {},
  "kernelspec": {
   "display_name": "Python 3",
   "language": "python",
   "name": "python3"
  },
  "language_info": {
   "codemirror_mode": {
    "name": "ipython",
    "version": 3
   },
   "file_extension": ".py",
   "mimetype": "text/x-python",
   "name": "python",
   "nbconvert_exporter": "python",
   "pygments_lexer": "ipython3",
   "version": "3.4.2"
  }
 },
 "nbformat": 4,
 "nbformat_minor": 2
}
